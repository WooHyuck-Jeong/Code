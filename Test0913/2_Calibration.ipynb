{
 "cells": [
  {
   "cell_type": "code",
   "execution_count": 1,
   "metadata": {},
   "outputs": [],
   "source": [
    "import os\n",
    "import sys\n",
    "import glob\n",
    "import random\n",
    "import numpy as np\n",
    "import pandas as pd\n",
    "import matplotlib.pyplot as plt\n",
    "\n",
    "from pyts.image import GramianAngularField"
   ]
  },
  {
   "cell_type": "code",
   "execution_count": 2,
   "metadata": {},
   "outputs": [],
   "source": [
    "if sys.platform == \"win32\":\n",
    "    dataPath = r\"C:\\\\Users\\\\KOTC\\\\Desktop\\\\0919\\\\Test2\\\\\"\n",
    "elif sys.platform == \"darwin\":\n",
    "    dataPath = \"/Users/jwh/Desktop/0913/Test2/result/\"\n",
    "\n",
    "fileNames = [file for file in sorted(glob.glob(dataPath + \"*.csv\")) if os.path.isfile(file)]"
   ]
  },
  {
   "cell_type": "code",
   "execution_count": 3,
   "metadata": {},
   "outputs": [],
   "source": [
    "sensorNames = [f\"s{i}\" for i in np.arange(1, 7, 1)]\n",
    "\n",
    "numRows = 4000"
   ]
  },
  {
   "cell_type": "code",
   "execution_count": 4,
   "metadata": {},
   "outputs": [
    {
     "data": {
      "text/plain": [
       "[]"
      ]
     },
     "execution_count": 4,
     "metadata": {},
     "output_type": "execute_result"
    }
   ],
   "source": [
    "classData = fileNames[1:]\n",
    "classData"
   ]
  },
  {
   "cell_type": "code",
   "execution_count": 7,
   "metadata": {},
   "outputs": [],
   "source": [
    "files = [pd.read_csv(file, sep= \",\", nrows= numRows) for file in classData]"
   ]
  },
  {
   "cell_type": "code",
   "execution_count": 8,
   "metadata": {},
   "outputs": [
    {
     "data": {
      "text/html": [
       "<div>\n",
       "<style scoped>\n",
       "    .dataframe tbody tr th:only-of-type {\n",
       "        vertical-align: middle;\n",
       "    }\n",
       "\n",
       "    .dataframe tbody tr th {\n",
       "        vertical-align: top;\n",
       "    }\n",
       "\n",
       "    .dataframe thead th {\n",
       "        text-align: right;\n",
       "    }\n",
       "</style>\n",
       "<table border=\"1\" class=\"dataframe\">\n",
       "  <thead>\n",
       "    <tr style=\"text-align: right;\">\n",
       "      <th></th>\n",
       "      <th>base</th>\n",
       "    </tr>\n",
       "  </thead>\n",
       "  <tbody>\n",
       "    <tr>\n",
       "      <th>s1</th>\n",
       "      <td>-828.26300</td>\n",
       "    </tr>\n",
       "    <tr>\n",
       "      <th>s2</th>\n",
       "      <td>-854.03200</td>\n",
       "    </tr>\n",
       "    <tr>\n",
       "      <th>s3</th>\n",
       "      <td>-886.97450</td>\n",
       "    </tr>\n",
       "    <tr>\n",
       "      <th>s4</th>\n",
       "      <td>756.29175</td>\n",
       "    </tr>\n",
       "    <tr>\n",
       "      <th>s5</th>\n",
       "      <td>744.35150</td>\n",
       "    </tr>\n",
       "  </tbody>\n",
       "</table>\n",
       "</div>"
      ],
      "text/plain": [
       "         base\n",
       "s1 -828.26300\n",
       "s2 -854.03200\n",
       "s3 -886.97450\n",
       "s4  756.29175\n",
       "s5  744.35150"
      ]
     },
     "execution_count": 8,
     "metadata": {},
     "output_type": "execute_result"
    }
   ],
   "source": [
    "base = pd.read_csv(fileNames[0], sep= \",\", nrows= numRows)\n",
    "meanBase = pd.DataFrame(base.mean(axis= 0), columns= ['base'])\n",
    "\n",
    "meanBase.head()"
   ]
  },
  {
   "cell_type": "code",
   "execution_count": 9,
   "metadata": {},
   "outputs": [],
   "source": [
    "def calibration(df):\n",
    "    res = [df.iloc[:, i] - meanBase.iloc[i, 0] for i in range(6)]\n",
    "    res = np.array(res).reshape(6, -1).T\n",
    "    res = pd.DataFrame(res, columns= sensorNames)\n",
    "    return res"
   ]
  },
  {
   "cell_type": "code",
   "execution_count": 10,
   "metadata": {},
   "outputs": [
    {
     "name": "stdout",
     "output_type": "stream",
     "text": [
      "(27, 6, 4000, 1)\n"
     ]
    }
   ],
   "source": [
    "calibrated = [calibration(files[i]) for i in range(len(files))]\n",
    "calibrated = np.array(calibrated)\n",
    "calibrated = calibrated.reshape(27, 6, 4000, 1)\n",
    "print(calibrated.shape)"
   ]
  },
  {
   "cell_type": "code",
   "execution_count": 12,
   "metadata": {},
   "outputs": [
    {
     "name": "stdout",
     "output_type": "stream",
     "text": [
      "(27, 6, 250, 16, 1)\n"
     ]
    }
   ],
   "source": [
    "splitedCase = []\n",
    "for i in range(calibrated.shape[0]):\n",
    "    splitedSensor = []\n",
    "    for j in range(calibrated.shape[1]):\n",
    "        splitedData = []\n",
    "        for k in range(int(len(calibrated[i, j]) / 16)):\n",
    "            splited = calibrated[i, j, k * 16 : (16 + (k * 16)), :]\n",
    "            splitedData.append(splited)\n",
    "        splitedData = np.array(splitedData)\n",
    "        splitedSensor.append(splitedData)\n",
    "    splitedSensor = np.array(splitedSensor)\n",
    "    splitedCase.append(splitedSensor)\n",
    "splitedCase = np.array(splitedCase)\n",
    "\n",
    "print(splitedCase.shape)"
   ]
  },
  {
   "cell_type": "code",
   "execution_count": 13,
   "metadata": {},
   "outputs": [],
   "source": [
    "gaf = GramianAngularField(method= 'difference')"
   ]
  },
  {
   "cell_type": "code",
   "execution_count": 14,
   "metadata": {},
   "outputs": [
    {
     "name": "stdout",
     "output_type": "stream",
     "text": [
      "(27, 6, 250, 16, 16)\n"
     ]
    }
   ],
   "source": [
    "encodedResult = []\n",
    "for i in range(splitedCase.shape[0]):\n",
    "    encodedSensor = []\n",
    "    for j in range(splitedCase.shape[1]):\n",
    "        encodedData = []\n",
    "        for k in range(splitedCase.shape[2]):\n",
    "            data = splitedCase[i, j, k, :]\n",
    "            encoded = gaf.fit_transform(data.T)\n",
    "            encoded = encoded.reshape(16, 16)\n",
    "            encodedData.append(encoded)\n",
    "        encodedData = np.array(encodedData)\n",
    "        encodedSensor.append(encodedData)\n",
    "    encodedSensor = np.array(encodedSensor)\n",
    "    encodedResult.append(encodedSensor)\n",
    "encodedResult = np.array(encodedResult)\n",
    "\n",
    "print(encodedResult.shape)"
   ]
  },
  {
   "cell_type": "code",
   "execution_count": 15,
   "metadata": {},
   "outputs": [
    {
     "name": "stdout",
     "output_type": "stream",
     "text": [
      "(27, 250, 16, 16, 6)\n"
     ]
    }
   ],
   "source": [
    "concatenateResult = []\n",
    "for c in range(encodedResult.shape[0]):\n",
    "    sensor1 = encodedResult[c, 0]\n",
    "    sensor2 = encodedResult[c, 1]\n",
    "    sensor3 = encodedResult[c, 2]\n",
    "    sensor4 = encodedResult[c, 3]\n",
    "    sensor5 = encodedResult[c, 4]\n",
    "    sensor6 = encodedResult[c, 5]\n",
    "\n",
    "    concatenateImg = []\n",
    "    for d in range(encodedResult.shape[2]):\n",
    "        sensor1Img = sensor1[d].reshape(16, 16, 1)\n",
    "        sensor2Img = sensor2[d].reshape(16, 16, 1)\n",
    "        sensor3Img = sensor3[d].reshape(16, 16, 1)\n",
    "        sensor4Img = sensor4[d].reshape(16, 16, 1)\n",
    "        sensor5Img = sensor5[d].reshape(16, 16, 1)\n",
    "        sensor6Img = sensor6[d].reshape(16, 16, 1)\n",
    "\n",
    "        res = np.concatenate((sensor1Img, sensor2Img), axis= 2)\n",
    "        res = np.concatenate((res, sensor3Img), axis= 2)\n",
    "        res = np.concatenate((res, sensor4Img), axis= 2)\n",
    "        res = np.concatenate((res, sensor5Img), axis= 2)\n",
    "        res = np.concatenate((res, sensor6Img), axis= 2)\n",
    "\n",
    "        concatenateImg.append(res)\n",
    "\n",
    "    concatenateImg = np.array(concatenateImg)\n",
    "    concatenateResult.append(concatenateImg)\n",
    "concatenateResult = np.array(concatenateResult)\n",
    "\n",
    "print(concatenateResult.shape)"
   ]
  },
  {
   "cell_type": "code",
   "execution_count": 16,
   "metadata": {},
   "outputs": [
    {
     "name": "stdout",
     "output_type": "stream",
     "text": [
      "Class1:  (3, 250, 16, 16, 6)\n",
      "Class2:  (3, 250, 16, 16, 6)\n",
      "Class3:  (3, 250, 16, 16, 6)\n",
      "Class4:  (3, 250, 16, 16, 6)\n",
      "Class5:  (3, 250, 16, 16, 6)\n",
      "Class6:  (3, 250, 16, 16, 6)\n",
      "Class7:  (3, 250, 16, 16, 6)\n",
      "Class8:  (3, 250, 16, 16, 6)\n",
      "Class9:  (3, 250, 16, 16, 6)\n"
     ]
    }
   ],
   "source": [
    "c1Idx = [0, 1, 2]\n",
    "c2Idx = [3, 4, 5]\n",
    "c3Idx = [6, 7, 8]\n",
    "c4Idx = [9, 10, 11]\n",
    "c5Idx = [12, 13, 14]\n",
    "c6Idx = [15, 16, 17]\n",
    "c7Idx = [18, 19, 20]\n",
    "c8Idx = [21, 22, 23]\n",
    "c9Idx = [24, 25, 26]\n",
    "\n",
    "concateClass1 = [concatenateResult[idx] for idx in c1Idx]\n",
    "concateClass2 = [concatenateResult[idx] for idx in c2Idx]\n",
    "concateClass3 = [concatenateResult[idx] for idx in c3Idx]\n",
    "concateClass4 = [concatenateResult[idx] for idx in c4Idx]\n",
    "concateClass5 = [concatenateResult[idx] for idx in c5Idx]\n",
    "concateClass6 = [concatenateResult[idx] for idx in c6Idx]\n",
    "concateClass7 = [concatenateResult[idx] for idx in c7Idx]\n",
    "concateClass8 = [concatenateResult[idx] for idx in c8Idx]\n",
    "concateClass9 = [concatenateResult[idx] for idx in c9Idx]\n",
    "\n",
    "concateClass1 = np.array(concateClass1)\n",
    "concateClass2 = np.array(concateClass2)\n",
    "concateClass3 = np.array(concateClass3)\n",
    "concateClass4 = np.array(concateClass4)\n",
    "concateClass5 = np.array(concateClass5)\n",
    "concateClass6 = np.array(concateClass6)\n",
    "concateClass7 = np.array(concateClass7)\n",
    "concateClass8 = np.array(concateClass8)\n",
    "concateClass9 = np.array(concateClass9)\n",
    "\n",
    "print(\"Class1: \", concateClass1.shape)\n",
    "print(\"Class2: \", concateClass2.shape)\n",
    "print(\"Class3: \", concateClass3.shape)\n",
    "print(\"Class4: \", concateClass4.shape)\n",
    "print(\"Class5: \", concateClass5.shape)\n",
    "print(\"Class6: \", concateClass6.shape)\n",
    "print(\"Class7: \", concateClass7.shape)\n",
    "print(\"Class8: \", concateClass8.shape)\n",
    "print(\"Class9: \", concateClass9.shape)\n"
   ]
  },
  {
   "cell_type": "code",
   "execution_count": 24,
   "metadata": {},
   "outputs": [],
   "source": [
    "def makeTrainingData(concateClass, label, class_num):\n",
    "    counter = 0\n",
    "\n",
    "    classImg = []\n",
    "    classLabelList = []\n",
    "    yClass = []\n",
    "\n",
    "    for n in range(3):\n",
    "        for d in range(concateClass.shape[1]):\n",
    "            img1 = concateClass[n, d, :, :, :3]\n",
    "            img2 = concateClass[n, d, :, :, 3:6]\n",
    "\n",
    "            classImg.append(img1)\n",
    "            classLabelList.append(f\"{label}_{counter}\")\n",
    "            yClass.append(class_num)\n",
    "\n",
    "            counter += 1\n",
    "\n",
    "            classImg.append(img2)\n",
    "            classLabelList.append(f\"{label}_{counter}\")\n",
    "            yClass.append(class_num)\n",
    "\n",
    "            counter += 1\n",
    "\n",
    "    classImg = np.array(classImg)\n",
    "    classLabelList = np.array(classLabelList)\n",
    "    yClass = np.array(yClass)\n",
    "\n",
    "    return classImg, classLabelList, yClass"
   ]
  },
  {
   "cell_type": "code",
   "execution_count": 31,
   "metadata": {},
   "outputs": [],
   "source": [
    "class1Img, class1LabelList, yClass1 = makeTrainingData(concateClass= concateClass1, label= \"C1\", class_num= 0)\n",
    "class2Img, class2LabelList, yClass2 = makeTrainingData(concateClass= concateClass2, label= \"C2\", class_num= 1)\n",
    "class3Img, class3LabelList, yClass3 = makeTrainingData(concateClass= concateClass3, label= \"C3\", class_num= 2)\n",
    "class4Img, class4LabelList, yClass4 = makeTrainingData(concateClass= concateClass4, label= \"C4\", class_num= 3)\n",
    "class5Img, class5LabelList, yClass5 = makeTrainingData(concateClass= concateClass5, label= \"C5\", class_num= 4)\n",
    "class6Img, class6LabelList, yClass6 = makeTrainingData(concateClass= concateClass6, label= \"C6\", class_num= 5)\n",
    "class7Img, class7LabelList, yClass7 = makeTrainingData(concateClass= concateClass7, label= \"C7\", class_num= 6)\n",
    "class8Img, class8LabelList, yClass8 = makeTrainingData(concateClass= concateClass8, label= \"C8\", class_num= 7)\n",
    "class9Img, class9LabelList, yClass9 = makeTrainingData(concateClass= concateClass9, label= \"C9\", class_num= 8)\n"
   ]
  },
  {
   "cell_type": "code",
   "execution_count": 32,
   "metadata": {},
   "outputs": [],
   "source": [
    "X_data = np.concatenate([\n",
    "    class1Img,\n",
    "    class2Img,\n",
    "    class3Img,\n",
    "    class4Img,\n",
    "    class5Img,\n",
    "    class6Img,\n",
    "    class7Img,\n",
    "    class8Img,\n",
    "    class9Img\n",
    "])\n",
    "\n",
    "y_data = np.concatenate([\n",
    "    yClass1,\n",
    "    yClass2,\n",
    "    yClass3,\n",
    "    yClass4,\n",
    "    yClass5,\n",
    "    yClass6,\n",
    "    yClass7,\n",
    "    yClass8,\n",
    "    yClass9\n",
    "])\n",
    "\n",
    "i_data = np.concatenate([\n",
    "    class1LabelList,\n",
    "    class2LabelList,\n",
    "    class3LabelList,\n",
    "    class4LabelList,\n",
    "    class5LabelList,\n",
    "    class6LabelList,\n",
    "    class7LabelList,\n",
    "    class8LabelList,\n",
    "    class9LabelList\n",
    "])\n",
    "\n",
    "tmp = [[x, y, z] for x, y, z in zip(X_data, y_data, i_data)]\n",
    "\n",
    "random.shuffle(tmp)\n",
    "\n",
    "X_data = [n[0] for n in tmp]\n",
    "y_data = [n[1] for n in tmp]\n",
    "i_data = [n[2] for n in tmp]\n",
    "\n",
    "npzDataPath = \"./\"\n",
    "np.savez(os.path.join(npzDataPath, \"Test0913\"), X_data= X_data, y_data= y_data, i_data= i_data)"
   ]
  },
  {
   "cell_type": "code",
   "execution_count": null,
   "metadata": {},
   "outputs": [],
   "source": []
  }
 ],
 "metadata": {
  "kernelspec": {
   "display_name": "tensorflow",
   "language": "python",
   "name": "python3"
  },
  "language_info": {
   "codemirror_mode": {
    "name": "ipython",
    "version": 3
   },
   "file_extension": ".py",
   "mimetype": "text/x-python",
   "name": "python",
   "nbconvert_exporter": "python",
   "pygments_lexer": "ipython3",
   "version": "3.9.16"
  }
 },
 "nbformat": 4,
 "nbformat_minor": 2
}
