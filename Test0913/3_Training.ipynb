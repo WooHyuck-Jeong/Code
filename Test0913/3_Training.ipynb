{
 "cells": [
  {
   "cell_type": "code",
   "execution_count": 1,
   "metadata": {},
   "outputs": [],
   "source": [
    "import os\n",
    "import glob\n",
    "import time\n",
    "import random\n",
    "import numpy as np\n",
    "import pandas as pd\n",
    "import seaborn as sns\n",
    "import matplotlib.pyplot as plt\n",
    "\n",
    "import keras\n",
    "import tensorflow as tf\n",
    "from keras import optimizers\n",
    "from keras.utils import to_categorical\n",
    "from keras.layers import Dense, Input\n",
    "from keras.models import Model, load_model\n",
    "from keras.applications import MobileNetV2\n",
    "from sklearn.metrics import classification_report, confusion_matrix\n",
    "from sklearn.model_selection import train_test_split"
   ]
  },
  {
   "cell_type": "code",
   "execution_count": 6,
   "metadata": {},
   "outputs": [
    {
     "name": "stdout",
     "output_type": "stream",
     "text": [
      "X_data:  (13500, 16, 16, 3)\n",
      "y_data:  (13500,)\n",
      "i_data:  (13500,)\n"
     ]
    }
   ],
   "source": [
    "dataPath = \"./Test0913.npz\"\n",
    "data = np.load(dataPath)\n",
    "\n",
    "X_data = data['X_data']\n",
    "y_data = data['y_data']\n",
    "i_data = data['i_data']\n",
    "\n",
    "data.close()\n",
    "\n",
    "print(\"X_data: \", X_data.shape)\n",
    "print(\"y_data: \", y_data.shape)\n",
    "print(\"i_data: \", i_data.shape)"
   ]
  },
  {
   "cell_type": "code",
   "execution_count": 7,
   "metadata": {},
   "outputs": [
    {
     "name": "stdout",
     "output_type": "stream",
     "text": [
      "(8640, 16, 16, 3) (2700, 16, 16, 3) (2160, 16, 16, 3)\n",
      "(8640,) (2700,) (2160,)\n",
      "(8640,) (2700,) (2160,)\n",
      "(array([0, 1, 2, 3, 4, 5, 6, 7, 8]), array([960, 960, 960, 960, 960, 960, 960, 960, 960]))\n",
      "(array([0, 1, 2, 3, 4, 5, 6, 7, 8]), array([300, 300, 300, 300, 300, 300, 300, 300, 300]))\n",
      "(array([0, 1, 2, 3, 4, 5, 6, 7, 8]), array([240, 240, 240, 240, 240, 240, 240, 240, 240]))\n"
     ]
    }
   ],
   "source": [
    "# Data split\n",
    "\n",
    "# Set random seed for reproductivity\n",
    "seed = 42\n",
    "\n",
    "# Train - Test split\n",
    "X_train, X_test, y_train, y_test, i_train, i_test = train_test_split(X_data, y_data, i_data, test_size= 0.2, shuffle= True, random_state= seed, stratify= y_data)\n",
    "\n",
    "# Train - Validation split\n",
    "X_train, X_val, y_train, y_val, i_train, i_val = train_test_split(X_train, y_train, i_train, test_size= 0.2, shuffle= True, random_state= seed, stratify= y_train)\n",
    "\n",
    "print(X_train.shape, X_test.shape, X_val.shape)\n",
    "print(y_train.shape, y_test.shape, y_val.shape)\n",
    "print(i_train.shape, i_test.shape, i_val.shape)\n",
    "\n",
    "print(np.unique(y_train, return_counts= True))\n",
    "print(np.unique(y_test, return_counts= True))\n",
    "print(np.unique(y_val, return_counts= True))"
   ]
  },
  {
   "cell_type": "code",
   "execution_count": 8,
   "metadata": {},
   "outputs": [
    {
     "name": "stdout",
     "output_type": "stream",
     "text": [
      "Train targets:  (8640, 9)\n",
      "Test targets:  (2700, 9)\n",
      "Validation targets:  (2160, 9)\n"
     ]
    }
   ],
   "source": [
    "# One - hot encoding\n",
    "trainTargets = to_categorical(y_train)\n",
    "testTargets = to_categorical(y_test)\n",
    "valTargets = to_categorical(y_val)\n",
    "\n",
    "print(\"Train targets: \", trainTargets.shape)\n",
    "print(\"Test targets: \", testTargets.shape)\n",
    "print(\"Validation targets: \", valTargets.shape)"
   ]
  },
  {
   "cell_type": "code",
   "execution_count": null,
   "metadata": {},
   "outputs": [],
   "source": [
    "with tf.device(\"/device:GPU:0\"):\n",
    "    inputTensor = Input(shape= (16, 16, 3))\n",
    "\n",
    "    model = MobileNetV2(input_tensor= inputTensor,\n",
    "                        include_top= False,\n",
    "                        weights= None,\n",
    "                        pooling= 'max')\n",
    "\n",
    "    x = model.output\n",
    "    x = Dense(9, activation= 'softmax', kernel_initializer= 'he_normal')(x)\n",
    "\n",
    "    model = Model(model.input, x)\n",
    "\n",
    "    optim = optimizers.SGD(learning_rate= 0.01,\n",
    "                           decay= 1e-3,\n",
    "                           momentum= 0.9,\n",
    "                           nesterov= True)\n",
    "\n",
    "    model.compile(optimizer= optim,\n",
    "                  loss= 'categorical_crossentropy',\n",
    "                  metrics= ['accuracy'])\n",
    "\n",
    "    print(\"Training ===================================================\")\n",
    "    startTime = time.time()\n",
    "\n",
    "    history = model.fit(X_train, trainTargets,\n",
    "                        batch_size= 16,\n",
    "                        epochs= 150,\n",
    "                        verbose= 1,\n",
    "                        validation_data= (X_val, valTargets))\n",
    "\n",
    "    endTime = time.time()\n",
    "\n",
    "    print(f\"Training time: {np.round(endTime - startTime), 3} sec\")\n",
    "\n",
    "    model.save(\"Test0913_weights.h5\")\n",
    "\n",
    "    print(\"Score for train dataset\")\n",
    "    score = model.evaluate(X_train, trainTargets, verbose= 1)\n",
    "    print(f\"Score: \\n{model.metrics_names[0]} : {score[0]}\\n{model.metrics_names[1]} : {score[1] * 100}%\")"
   ]
  },
  {
   "cell_type": "code",
   "execution_count": null,
   "metadata": {},
   "outputs": [],
   "source": [
    "def plotHistory(history, train, validation):\n",
    "    \"\"\"\n",
    "        plot training history\n",
    "        Parameters\n",
    "        ------------------------------\n",
    "        history = history\n",
    "        train = 'accuracy' or 'loss'\n",
    "        validation = 'val_accuracy' or 'val_loss'\n",
    "    \"\"\"\n",
    "    plt.figure(figsize= (8, 6))\n",
    "    plt.plot(history.history[train])\n",
    "    plt.plot(history.history[validation])\n",
    "    plt.legend(['train', 'validation'], loc= 'center right')\n",
    "    plt.xlabel(\"Epochs\")\n",
    "    if train == 'accuracy':\n",
    "        plt.ylabel(\"Accuracy\")\n",
    "        plt.title(f\"Accuracy for train dataset\")\n",
    "    elif train == \"loss\":\n",
    "        plt.ylabel(\"Loss\")\n",
    "        plt.title(\"Loss for train dataset\")\n",
    "    plt.show()"
   ]
  },
  {
   "cell_type": "code",
   "execution_count": null,
   "metadata": {},
   "outputs": [],
   "source": [
    "plotHistory(history= history, train= 'accuracy', validation= 'val_accuracy')\n",
    "plotHistory(history= history, train= 'loss', validation= 'val_loss')"
   ]
  },
  {
   "cell_type": "code",
   "execution_count": null,
   "metadata": {},
   "outputs": [],
   "source": [
    "# Evaluate test dataset\n",
    "testScore = model.evaluate(X_test, testTargets, verbose= 1)\n",
    "print(f\"{model.metrics_names[0]} : {testScore[0]}\\n{model.metrics_names[1]} : {testScore[1] * 100} %\")"
   ]
  },
  {
   "cell_type": "code",
   "execution_count": null,
   "metadata": {},
   "outputs": [],
   "source": [
    "# Prediction for test dataset\n",
    "\n",
    "prediction = model.predict(X_test)\n",
    "predictionClass = np.argmax(prediction, axis= 1)        # One-hot encoding --> Original label\n",
    "\n",
    "# Actual Class (One-hot encoding testTarget --> y_test)\n",
    "if testTargets.ndim > 1:\n",
    "    actualClass = np.argmax(testTargets, axis= 1)\n",
    "else:\n",
    "    actualClass = testTargets\n",
    "\n",
    "# Classification report\n",
    "print(f\"Classification report: \\n{classification_report(actualClass, predictionClass)}\")\n",
    "\n",
    "# Confusion matrix\n",
    "plt.figure(figsize= (8, 6))\n",
    "sns.heatmap(confusion_matrix(actualClass, predictionClass), \n",
    "            annot= True, \n",
    "            fmt= \"d\", \n",
    "            cmap= \"Blues\",\n",
    "            cbar= False)\n",
    "plt.title(\"Confusion matrix for test dataset\")\n",
    "plt.xlabel(\"Prediction class\")\n",
    "plt.ylabel(\"Actual class\")\n",
    "plt.show()"
   ]
  },
  {
   "cell_type": "code",
   "execution_count": null,
   "metadata": {},
   "outputs": [],
   "source": [
    "# Prediction for 1 image\n",
    "\n",
    "randomImgIdx = random.randrange(0, X_test.shape[0])\n",
    "\n",
    "predictStartTime = time.time()\n",
    "\n",
    "predictionImg = X_test[randomImgIdx]\n",
    "predictionImg = np.expand_dims(predictionImg, axis= 0)\n",
    "\n",
    "testPrediction = model.predict(predictionImg)\n",
    "\n",
    "predictEndTime = time.time()\n",
    "\n",
    "print(\"Random image index: \", randomImgIdx)\n",
    "print(\"Random actual label: \", i_test[randomImgIdx])\n",
    "print(\"Random actual class: \", actualClass[randomImgIdx])\n",
    "print(\"Random prediction class: \", predictionClass[randomImgIdx])"
   ]
  }
 ],
 "metadata": {
  "kernelspec": {
   "display_name": "tensorflow",
   "language": "python",
   "name": "python3"
  },
  "language_info": {
   "codemirror_mode": {
    "name": "ipython",
    "version": 3
   },
   "file_extension": ".py",
   "mimetype": "text/x-python",
   "name": "python",
   "nbconvert_exporter": "python",
   "pygments_lexer": "ipython3",
   "version": "3.9.16"
  }
 },
 "nbformat": 4,
 "nbformat_minor": 2
}
