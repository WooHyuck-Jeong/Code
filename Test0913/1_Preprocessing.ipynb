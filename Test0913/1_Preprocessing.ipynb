{
 "cells": [
  {
   "cell_type": "code",
   "execution_count": 1,
   "metadata": {},
   "outputs": [],
   "source": [
    "import os\n",
    "import glob\n",
    "import numpy as np\n",
    "import pandas as pd\n",
    "import matplotlib.pyplot as plt"
   ]
  },
  {
   "cell_type": "code",
   "execution_count": 2,
   "metadata": {},
   "outputs": [],
   "source": [
    "def makeDirectory(dirName):\n",
    "    if not os.path.exists(dirName):\n",
    "        os.makedirs(dirName, exist_ok= True)"
   ]
  },
  {
   "cell_type": "code",
   "execution_count": 3,
   "metadata": {},
   "outputs": [],
   "source": [
    "folderPath = \"/Users/jwh/Desktop/0913/Test2/\""
   ]
  },
  {
   "cell_type": "code",
   "execution_count": 4,
   "metadata": {},
   "outputs": [
    {
     "name": "stdout",
     "output_type": "stream",
     "text": [
      "['/Users/jwh/Desktop/0913/Test2/class_1', '/Users/jwh/Desktop/0913/Test2/class_10', '/Users/jwh/Desktop/0913/Test2/class_11', '/Users/jwh/Desktop/0913/Test2/class_12', '/Users/jwh/Desktop/0913/Test2/class_13', '/Users/jwh/Desktop/0913/Test2/class_14', '/Users/jwh/Desktop/0913/Test2/class_15', '/Users/jwh/Desktop/0913/Test2/class_16', '/Users/jwh/Desktop/0913/Test2/class_17', '/Users/jwh/Desktop/0913/Test2/class_18', '/Users/jwh/Desktop/0913/Test2/class_19', '/Users/jwh/Desktop/0913/Test2/class_2', '/Users/jwh/Desktop/0913/Test2/class_20', '/Users/jwh/Desktop/0913/Test2/class_21', '/Users/jwh/Desktop/0913/Test2/class_22', '/Users/jwh/Desktop/0913/Test2/class_23', '/Users/jwh/Desktop/0913/Test2/class_24', '/Users/jwh/Desktop/0913/Test2/class_25', '/Users/jwh/Desktop/0913/Test2/class_26', '/Users/jwh/Desktop/0913/Test2/class_27', '/Users/jwh/Desktop/0913/Test2/class_3', '/Users/jwh/Desktop/0913/Test2/class_4', '/Users/jwh/Desktop/0913/Test2/class_5', '/Users/jwh/Desktop/0913/Test2/class_6', '/Users/jwh/Desktop/0913/Test2/class_7', '/Users/jwh/Desktop/0913/Test2/class_8', '/Users/jwh/Desktop/0913/Test2/class_9']\n"
     ]
    }
   ],
   "source": [
    "files = [file for file in sorted(glob.glob(folderPath + \"*\"))]\n",
    "print(files)"
   ]
  },
  {
   "cell_type": "code",
   "execution_count": 5,
   "metadata": {},
   "outputs": [],
   "source": [
    "resultPath = folderPath + \"result/\"\n",
    "\n",
    "makeDirectory(resultPath)"
   ]
  },
  {
   "cell_type": "code",
   "execution_count": 6,
   "metadata": {},
   "outputs": [],
   "source": [
    "# Global variables\n",
    "\n",
    "colName = \"col\"\n",
    "sensorNames = [f\"s{i}\" for i in np.arange(1, 7, 1)]\n",
    "\n",
    "skipNumber = 300\n",
    "useNumber = 4000\n",
    "\n",
    "useClass = [0, 11, 20, 21, 22, 23, 24, 25, 26]"
   ]
  },
  {
   "cell_type": "code",
   "execution_count": 7,
   "metadata": {},
   "outputs": [],
   "source": [
    "classFolder = [files[i] for i in useClass]"
   ]
  },
  {
   "cell_type": "code",
   "execution_count": 8,
   "metadata": {},
   "outputs": [],
   "source": [
    "def makeCSV(classFolder, savePath):\n",
    "    \"\"\"\n",
    "        log file to csv\n",
    "    \"\"\"\n",
    "    classData = sorted(glob.glob(classFolder + \"/*\"))\n",
    "\n",
    "    for file in classData:\n",
    "        df = pd.read_table(file, names= [colName], skiprows= skipNumber, nrows= useNumber)\n",
    "        df = df.iloc[:, 0].str[-39:]\n",
    "        df = pd.DataFrame(df, columns= [colName])\n",
    "\n",
    "        s1 = df[colName].str[4:9]\n",
    "        s2 = df[colName].str[9:14]\n",
    "        s3 = df[colName].str[14:19]\n",
    "        s4 = df[colName].str[20:25]\n",
    "        s5 = df[colName].str[25:30]\n",
    "        s6 = df[colName].str[30:35]\n",
    "\n",
    "        res = [s1, s2, s3, s4, s5, s6]\n",
    "        res = pd.concat(res, axis= 1)\n",
    "\n",
    "        res.columns = sensorNames\n",
    "\n",
    "        saveFileName = file[-9:] + \".csv\"\n",
    "        \n",
    "        # res.to_csv(savePath + saveFileName, index= False)"
   ]
  },
  {
   "cell_type": "code",
   "execution_count": 9,
   "metadata": {},
   "outputs": [],
   "source": [
    "for c in classFolder:\n",
    "    makeCSV(c, savePath= resultPath)"
   ]
  },
  {
   "cell_type": "code",
   "execution_count": 20,
   "metadata": {},
   "outputs": [],
   "source": [
    "basePath = \"/Users/jwh/Desktop/0913/base\"\n",
    "base = pd.read_table(basePath, names= [colName], skiprows= skipNumber, nrows= useNumber)\n",
    "base = base.iloc[:, 0].str[-39:]\n",
    "base = pd.DataFrame(base, columns= [colName])\n",
    "\n",
    "b1 = base[colName].str[4:9]\n",
    "b2 = base[colName].str[9:14]\n",
    "b3 = base[colName].str[14:19]\n",
    "b4 = base[colName].str[20:25]\n",
    "b5 = base[colName].str[25:30]\n",
    "b6 = base[colName].str[30:35]\n",
    "\n",
    "res = [b1, b2, b3, b4, b5, b6]\n",
    "base = pd.concat(res, axis= 1)\n",
    "base.columns = sensorNames\n",
    "\n",
    "base.to_csv(resultPath + \"base.csv\", index= False)"
   ]
  },
  {
   "cell_type": "code",
   "execution_count": null,
   "metadata": {},
   "outputs": [],
   "source": []
  }
 ],
 "metadata": {
  "kernelspec": {
   "display_name": "tensorflow",
   "language": "python",
   "name": "python3"
  },
  "language_info": {
   "codemirror_mode": {
    "name": "ipython",
    "version": 3
   },
   "file_extension": ".py",
   "mimetype": "text/x-python",
   "name": "python",
   "nbconvert_exporter": "python",
   "pygments_lexer": "ipython3",
   "version": "3.9.16"
  }
 },
 "nbformat": 4,
 "nbformat_minor": 2
}
