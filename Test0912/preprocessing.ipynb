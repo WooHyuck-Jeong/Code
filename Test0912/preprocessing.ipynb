{
 "cells": [
  {
   "cell_type": "code",
   "execution_count": 1,
   "metadata": {},
   "outputs": [],
   "source": [
    "import os\n",
    "import glob\n",
    "import numpy as np\n",
    "import pandas as pd"
   ]
  },
  {
   "cell_type": "code",
   "execution_count": 2,
   "metadata": {},
   "outputs": [],
   "source": [
    "def makeDirectory(dirName):\n",
    "    if not os.path.exists(dirName):\n",
    "        os.makedirs(dirName, exist_ok= True)"
   ]
  },
  {
   "cell_type": "code",
   "execution_count": 3,
   "metadata": {},
   "outputs": [],
   "source": [
    "folderPath = \"/Users/jwh/Desktop/0912/Test1/\""
   ]
  },
  {
   "cell_type": "code",
   "execution_count": 4,
   "metadata": {},
   "outputs": [
    {
     "name": "stdout",
     "output_type": "stream",
     "text": [
      "/Users/jwh/Desktop/0912/Test1/base123\n",
      "/Users/jwh/Desktop/0912/Test1/base456\n",
      "/Users/jwh/Desktop/0912/Test1/sensor1_D10\n",
      "/Users/jwh/Desktop/0912/Test1/sensor1_D20\n",
      "/Users/jwh/Desktop/0912/Test1/sensor1_D30\n",
      "/Users/jwh/Desktop/0912/Test1/sensor1_D40\n",
      "/Users/jwh/Desktop/0912/Test1/sensor1_U10\n",
      "/Users/jwh/Desktop/0912/Test1/sensor1_U20\n",
      "/Users/jwh/Desktop/0912/Test1/sensor1_U30\n",
      "/Users/jwh/Desktop/0912/Test1/sensor1_U40\n",
      "/Users/jwh/Desktop/0912/Test1/sensor2_D10\n",
      "/Users/jwh/Desktop/0912/Test1/sensor2_D20\n",
      "/Users/jwh/Desktop/0912/Test1/sensor2_D30\n",
      "/Users/jwh/Desktop/0912/Test1/sensor2_D40\n",
      "/Users/jwh/Desktop/0912/Test1/sensor2_U10\n",
      "/Users/jwh/Desktop/0912/Test1/sensor2_U20\n",
      "/Users/jwh/Desktop/0912/Test1/sensor2_U30\n",
      "/Users/jwh/Desktop/0912/Test1/sensor2_U40\n",
      "/Users/jwh/Desktop/0912/Test1/sensor3_D10\n",
      "/Users/jwh/Desktop/0912/Test1/sensor3_D20\n",
      "/Users/jwh/Desktop/0912/Test1/sensor3_D30\n",
      "/Users/jwh/Desktop/0912/Test1/sensor3_D40\n",
      "/Users/jwh/Desktop/0912/Test1/sensor3_U10\n",
      "/Users/jwh/Desktop/0912/Test1/sensor3_U20\n",
      "/Users/jwh/Desktop/0912/Test1/sensor3_U30\n",
      "/Users/jwh/Desktop/0912/Test1/sensor3_U40\n",
      "/Users/jwh/Desktop/0912/Test1/sensor4_D10\n",
      "/Users/jwh/Desktop/0912/Test1/sensor4_D20\n",
      "/Users/jwh/Desktop/0912/Test1/sensor4_D30\n",
      "/Users/jwh/Desktop/0912/Test1/sensor4_D40\n",
      "/Users/jwh/Desktop/0912/Test1/sensor4_U10\n",
      "/Users/jwh/Desktop/0912/Test1/sensor4_U20\n",
      "/Users/jwh/Desktop/0912/Test1/sensor4_U30\n",
      "/Users/jwh/Desktop/0912/Test1/sensor4_U40\n",
      "/Users/jwh/Desktop/0912/Test1/sensor5_D10\n",
      "/Users/jwh/Desktop/0912/Test1/sensor5_D20\n",
      "/Users/jwh/Desktop/0912/Test1/sensor5_D30\n",
      "/Users/jwh/Desktop/0912/Test1/sensor5_D40\n",
      "/Users/jwh/Desktop/0912/Test1/sensor5_U10\n",
      "/Users/jwh/Desktop/0912/Test1/sensor5_U20\n",
      "/Users/jwh/Desktop/0912/Test1/sensor5_U30\n",
      "/Users/jwh/Desktop/0912/Test1/sensor5_U40\n",
      "/Users/jwh/Desktop/0912/Test1/sensor6_D10\n",
      "/Users/jwh/Desktop/0912/Test1/sensor6_D20\n",
      "/Users/jwh/Desktop/0912/Test1/sensor6_D30\n",
      "/Users/jwh/Desktop/0912/Test1/sensor6_D40\n",
      "/Users/jwh/Desktop/0912/Test1/sensor6_U10\n",
      "/Users/jwh/Desktop/0912/Test1/sensor6_U20\n",
      "/Users/jwh/Desktop/0912/Test1/sensor6_U30\n",
      "/Users/jwh/Desktop/0912/Test1/sensor6_U40\n"
     ]
    }
   ],
   "source": [
    "fileList = [file for file in sorted(glob.glob(folderPath + \"*\")) if os.path.isfile(file)]\n",
    "\n",
    "for f in fileList:\n",
    "    print(f)"
   ]
  },
  {
   "cell_type": "code",
   "execution_count": 5,
   "metadata": {},
   "outputs": [],
   "source": [
    "# Make result folder\n",
    "resultDir = makeDirectory(folderPath + \"result/\")"
   ]
  },
  {
   "cell_type": "code",
   "execution_count": 6,
   "metadata": {},
   "outputs": [],
   "source": [
    "colName = \"col\"\n",
    "sensorColNames = [f\"s{i}\" for i in np.arange(1, 7, 1)]"
   ]
  },
  {
   "cell_type": "code",
   "execution_count": 7,
   "metadata": {},
   "outputs": [],
   "source": [
    "for file in fileList:\n",
    "    df = pd.read_table(file, names= [colName], skiprows= 300)\n",
    "    df = df.iloc[:, 0].str[-39:]\n",
    "    df = pd.DataFrame(df, columns= [colName])\n",
    "\n",
    "    s1 = df[colName].str[4:9]\n",
    "    s2 = df[colName].str[9:14]\n",
    "    s3 = df[colName].str[14:19]\n",
    "    s4 = df[colName].str[20:25]\n",
    "    s5 = df[colName].str[25:30]\n",
    "    s6 = df[colName].str[30:35]\n",
    "\n",
    "    res = pd.concat((s1, s2), axis= 1)\n",
    "    res = pd.concat((res, s3), axis= 1)\n",
    "    res = pd.concat((res, s4), axis= 1)\n",
    "    res = pd.concat((res, s5), axis= 1)\n",
    "    res = pd.concat((res, s6), axis= 1)\n",
    "\n",
    "    res.columns = sensorColNames\n",
    "\n",
    "    saveFileName = str(file.split(f\"{folderPath}\")[1]) + \".csv\"\n",
    "\n",
    "    savePath = folderPath + \"result/\"\n",
    "\n",
    "    res.to_csv(savePath + saveFileName, index= False)"
   ]
  }
 ],
 "metadata": {
  "kernelspec": {
   "display_name": "tensorflow",
   "language": "python",
   "name": "python3"
  },
  "language_info": {
   "codemirror_mode": {
    "name": "ipython",
    "version": 3
   },
   "file_extension": ".py",
   "mimetype": "text/x-python",
   "name": "python",
   "nbconvert_exporter": "python",
   "pygments_lexer": "ipython3",
   "version": "3.9.16"
  }
 },
 "nbformat": 4,
 "nbformat_minor": 2
}
