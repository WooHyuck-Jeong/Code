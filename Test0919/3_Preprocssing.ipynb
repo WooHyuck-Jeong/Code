{
 "cells": [
  {
   "cell_type": "code",
   "execution_count": 1,
   "metadata": {},
   "outputs": [],
   "source": [
    "import os\n",
    "import sys\n",
    "import glob\n",
    "import random\n",
    "import numpy as np\n",
    "import pandas as pd\n",
    "import matplotlib.pyplot as plt\n",
    "\n",
    "from pyts.image import GramianAngularField"
   ]
  },
  {
   "cell_type": "code",
   "execution_count": 2,
   "metadata": {},
   "outputs": [],
   "source": [
    "if sys.platform == \"win32\":\n",
    "    dataPath = \"\"\n",
    "elif sys.platform == \"darwin\":\n",
    "    dataPath = \"/Users/jwh/Desktop/0919/Test2/result/\"\n",
    "\n",
    "fileNames = [file for file in sorted(glob.glob(dataPath + \"*.csv\")) if os.path.isfile(file)]"
   ]
  },
  {
   "cell_type": "code",
   "execution_count": 3,
   "metadata": {},
   "outputs": [],
   "source": [
    "sensorNames = [f\"s{i}\" for i in np.arange(1, 7, 1)]\n",
    "\n",
    "numRows = 4000"
   ]
  },
  {
   "cell_type": "code",
   "execution_count": 4,
   "metadata": {},
   "outputs": [],
   "source": [
    "fileIdx = [31, 32, 33,                  # class 1\n",
    "           58, 59, 60,                  # class 2\n",
    "           61, 62, 63,                  # class 3\n",
    "           64, 65, 66,                  # class 4\n",
    "           67, 68, 69,                  # class 5\n",
    "           70, 71, 72,                  # class 6\n",
    "           73, 74, 75,                  # class 7\n",
    "           76, 77, 78,                  # class 8\n",
    "           79, 80, 81,                  # class 9\n",
    "           1, 2, 3,                     # class 10\n",
    "           4, 5, 6,                     # class 11\n",
    "           7, 8, 9,                     # class 12\n",
    "           10, 11, 12,                  # class 13\n",
    "           13, 14, 15,                  # class 14\n",
    "           16, 17, 18,                  # class 15\n",
    "           19, 20, 21,                  # class 16\n",
    "           22, 23, 24,                  # class 17\n",
    "           25, 26, 27,                  # class 18\n",
    "           28, 29, 30,                  # class 19\n",
    "           34, 35, 36,                  # class 20\n",
    "           37, 38, 39,                  # class 21\n",
    "           40, 41, 42,                  # class 22\n",
    "           43, 44, 45,                  # class 23\n",
    "           46, 47, 48,                  # class 24\n",
    "           49, 50, 51,                  # class 25\n",
    "           52, 53, 54,                  # class 26\n",
    "           55, 56, 57]                  # class 27\n",
    "\n",
    "sortedFiles = [fileNames[i] for i in fileIdx]"
   ]
  },
  {
   "cell_type": "code",
   "execution_count": 5,
   "metadata": {},
   "outputs": [],
   "source": [
    "files = [pd.read_csv(file, sep= \",\", nrows= numRows) for file in sortedFiles]"
   ]
  },
  {
   "cell_type": "code",
   "execution_count": 6,
   "metadata": {},
   "outputs": [
    {
     "data": {
      "text/html": [
       "<div>\n",
       "<style scoped>\n",
       "    .dataframe tbody tr th:only-of-type {\n",
       "        vertical-align: middle;\n",
       "    }\n",
       "\n",
       "    .dataframe tbody tr th {\n",
       "        vertical-align: top;\n",
       "    }\n",
       "\n",
       "    .dataframe thead th {\n",
       "        text-align: right;\n",
       "    }\n",
       "</style>\n",
       "<table border=\"1\" class=\"dataframe\">\n",
       "  <thead>\n",
       "    <tr style=\"text-align: right;\">\n",
       "      <th></th>\n",
       "      <th>base</th>\n",
       "    </tr>\n",
       "  </thead>\n",
       "  <tbody>\n",
       "    <tr>\n",
       "      <th>s1</th>\n",
       "      <td>-828.26300</td>\n",
       "    </tr>\n",
       "    <tr>\n",
       "      <th>s2</th>\n",
       "      <td>-854.03200</td>\n",
       "    </tr>\n",
       "    <tr>\n",
       "      <th>s3</th>\n",
       "      <td>-886.97450</td>\n",
       "    </tr>\n",
       "    <tr>\n",
       "      <th>s4</th>\n",
       "      <td>756.29175</td>\n",
       "    </tr>\n",
       "    <tr>\n",
       "      <th>s5</th>\n",
       "      <td>744.35150</td>\n",
       "    </tr>\n",
       "  </tbody>\n",
       "</table>\n",
       "</div>"
      ],
      "text/plain": [
       "         base\n",
       "s1 -828.26300\n",
       "s2 -854.03200\n",
       "s3 -886.97450\n",
       "s4  756.29175\n",
       "s5  744.35150"
      ]
     },
     "execution_count": 6,
     "metadata": {},
     "output_type": "execute_result"
    }
   ],
   "source": [
    "base = pd.read_csv(fileNames[0], sep= \",\", nrows= numRows)\n",
    "meanBase = pd.DataFrame(base.mean(axis= 0), columns= ['base'])\n",
    "meanBase.head()"
   ]
  },
  {
   "cell_type": "code",
   "execution_count": 7,
   "metadata": {},
   "outputs": [],
   "source": [
    "def calibration(df):\n",
    "    res = [df.iloc[:, i] - meanBase.iloc[i, 0] for i in range(6)]\n",
    "    res = np.array(res).reshape(6, -1).T\n",
    "    res = pd.DataFrame(res, columns= sensorNames)\n",
    "    return res"
   ]
  },
  {
   "cell_type": "code",
   "execution_count": 8,
   "metadata": {},
   "outputs": [
    {
     "name": "stdout",
     "output_type": "stream",
     "text": [
      "(81, 6, 4000, 1)\n"
     ]
    }
   ],
   "source": [
    "calibrated = [calibration(files[i]) for i in range(len(files))]\n",
    "calibrated = np.array(calibrated)\n",
    "calibrated = calibrated.reshape(81, 6, 4000, 1)\n",
    "print(calibrated.shape)"
   ]
  },
  {
   "cell_type": "code",
   "execution_count": 9,
   "metadata": {},
   "outputs": [
    {
     "name": "stdout",
     "output_type": "stream",
     "text": [
      "(81, 6, 250, 16, 1)\n"
     ]
    }
   ],
   "source": [
    "splitedCase = []\n",
    "for i in range(calibrated.shape[0]):\n",
    "    splitedSensor = []\n",
    "    for j in range(calibrated.shape[1]):\n",
    "        splitedData = []\n",
    "        for k in range(int(len(calibrated[i, j]) / 16)):\n",
    "            splited = calibrated[i, j, k * 16 : (16 + (k * 16)), :]\n",
    "            splitedData.append(splited)\n",
    "        splitedData = np.array(splitedData)\n",
    "        splitedSensor.append(splitedData)\n",
    "    splitedSensor = np.array(splitedSensor)\n",
    "    splitedCase.append(splitedSensor)\n",
    "splitedCase = np.array(splitedCase)\n",
    "\n",
    "print(splitedCase.shape)"
   ]
  },
  {
   "cell_type": "code",
   "execution_count": 10,
   "metadata": {},
   "outputs": [],
   "source": [
    "gaf = GramianAngularField(method= 'difference')"
   ]
  },
  {
   "cell_type": "code",
   "execution_count": 11,
   "metadata": {},
   "outputs": [
    {
     "name": "stdout",
     "output_type": "stream",
     "text": [
      "(81, 6, 250, 16, 16)\n"
     ]
    }
   ],
   "source": [
    "encodedResult = []\n",
    "for i in range(splitedCase.shape[0]):\n",
    "    encodedSensor = []\n",
    "    for j in range(splitedCase.shape[1]):\n",
    "        encodedData = []\n",
    "        for k in range(splitedCase.shape[2]):\n",
    "            data = splitedCase[i, j, k, :]\n",
    "            encoded = gaf.fit_transform(data.T)\n",
    "            encoded = encoded.reshape(16, 16)\n",
    "            encodedData.append(encoded)\n",
    "        encodedData = np.array(encodedData)\n",
    "        encodedSensor.append(encodedData)\n",
    "    encodedSensor = np.array(encodedSensor)\n",
    "    encodedResult.append(encodedSensor)\n",
    "encodedResult = np.array(encodedResult)\n",
    "\n",
    "print(encodedResult.shape)"
   ]
  },
  {
   "cell_type": "code",
   "execution_count": 12,
   "metadata": {},
   "outputs": [
    {
     "name": "stdout",
     "output_type": "stream",
     "text": [
      "(81, 250, 16, 16, 6)\n"
     ]
    }
   ],
   "source": [
    "concatenateResult = []\n",
    "for c in range(encodedResult.shape[0]):\n",
    "    sensor1 = encodedResult[c, 0]\n",
    "    sensor2 = encodedResult[c, 1]\n",
    "    sensor3 = encodedResult[c, 2]\n",
    "    sensor4 = encodedResult[c, 3]\n",
    "    sensor5 = encodedResult[c, 4]\n",
    "    sensor6 = encodedResult[c, 5]\n",
    "\n",
    "    concatenateImg = []\n",
    "    for d in range(encodedResult.shape[2]):\n",
    "        sensor1Img = sensor1[d].reshape(16, 16, 1)\n",
    "        sensor2Img = sensor2[d].reshape(16, 16, 1)\n",
    "        sensor3Img = sensor3[d].reshape(16, 16, 1)\n",
    "        sensor4Img = sensor4[d].reshape(16, 16, 1)\n",
    "        sensor5Img = sensor5[d].reshape(16, 16, 1)\n",
    "        sensor6Img = sensor6[d].reshape(16, 16, 1)\n",
    "\n",
    "        res = np.concatenate((sensor1Img, sensor2Img), axis= 2)\n",
    "        res = np.concatenate((res, sensor3Img), axis= 2)\n",
    "        res = np.concatenate((res, sensor4Img), axis= 2)\n",
    "        res = np.concatenate((res, sensor5Img), axis= 2)\n",
    "        res = np.concatenate((res, sensor6Img), axis= 2)\n",
    "\n",
    "        concatenateImg.append(res)\n",
    "\n",
    "    concatenateImg = np.array(concatenateImg)\n",
    "    concatenateResult.append(concatenateImg)\n",
    "concatenateResult = np.array(concatenateResult)\n",
    "\n",
    "print(concatenateResult.shape)"
   ]
  },
  {
   "cell_type": "code",
   "execution_count": 13,
   "metadata": {},
   "outputs": [],
   "source": [
    "idxList = [i for i in np.arange(0, 81, 1)]\n",
    "classIdx = []\n",
    "for i in range(27):\n",
    "    tmp = idxList[i*3 : (3 + (i * 3))]\n",
    "    classIdx.append(tmp)\n",
    "\n",
    "classIdx = np.array(classIdx)"
   ]
  },
  {
   "cell_type": "code",
   "execution_count": 14,
   "metadata": {},
   "outputs": [],
   "source": [
    "concateClass = []\n",
    "for i in range(classIdx.shape[0]):\n",
    "    c = [concatenateResult[idx] for idx in classIdx[i]]\n",
    "    concateClass.append(c)\n",
    "\n",
    "concateClass = np.array(concateClass)\n",
    "\n",
    "# for c in range(concateClass.shape[0]):\n",
    "#     print(f\"Class {c}: {concateClass[c].shape}\")"
   ]
  },
  {
   "cell_type": "code",
   "execution_count": 16,
   "metadata": {},
   "outputs": [],
   "source": [
    "def makeTrainingData(concateClass, label, classNum):\n",
    "    counter = 0\n",
    "\n",
    "    classImg = []\n",
    "    classLabelList = []\n",
    "    yClass = []\n",
    "\n",
    "    for n in range(concateClass.shape[0]):\n",
    "        for j in range(concateClass.shape[1]):\n",
    "            img1 = concateClass[n, d, :, :, :3]\n",
    "            img2 = concateClass[n, d, :, :, 3:6]\n",
    "\n",
    "            classImg.append(img1)\n",
    "            classLabelList.append(f\"{label}_{counter}\")\n",
    "            yClass.append(classNum)\n",
    "\n",
    "            counter += 1\n",
    "\n",
    "            classImg.append(img2)\n",
    "            classLabelList.append(f\"{label}_{counter}\")\n",
    "            yClass.append(classNum)\n",
    "\n",
    "            counter += 1\n",
    "\n",
    "    classImg = np.array(classImg)\n",
    "    classLabelList = np.array(classLabelList)\n",
    "    yClass = np.array(yClass)\n",
    "\n",
    "    return classImg, classLabelList, yClass"
   ]
  },
  {
   "cell_type": "code",
   "execution_count": 19,
   "metadata": {},
   "outputs": [],
   "source": [
    "a, b, c, = makeTrainingData(concateClass[0], label= \"C1\", classNum= 0)"
   ]
  },
  {
   "cell_type": "code",
   "execution_count": 20,
   "metadata": {},
   "outputs": [
    {
     "data": {
      "text/plain": [
       "(1500, 16, 16, 3)"
      ]
     },
     "execution_count": 20,
     "metadata": {},
     "output_type": "execute_result"
    }
   ],
   "source": [
    "a.shape"
   ]
  },
  {
   "cell_type": "code",
   "execution_count": 37,
   "metadata": {},
   "outputs": [
    {
     "name": "stdout",
     "output_type": "stream",
     "text": [
      "(40500, 16, 16, 3)\n",
      "(40500,)\n",
      "(40500,)\n"
     ]
    }
   ],
   "source": [
    "X_data = []\n",
    "i_data = []\n",
    "y_data = []\n",
    "for i in range(concateClass.shape[0]):\n",
    "    classImg, classLabel, yClass = makeTrainingData(concateClass= concateClass[i], label= f\"C{i}\", classNum= i)\n",
    "    X_data.append(classImg)\n",
    "    i_data.append(classLabel)\n",
    "    y_data.append(yClass)\n",
    "\n",
    "X_data = np.concatenate(X_data)\n",
    "i_data = np.concatenate(i_data)\n",
    "y_data = np.concatenate(y_data)\n",
    "\n",
    "X_data = np.array(X_data)\n",
    "y_data = np.array(y_data)\n",
    "i_data = np.array(i_data)\n",
    "\n",
    "print(X_data.shape)\n",
    "print(i_data.shape)\n",
    "print(y_data.shape)"
   ]
  },
  {
   "cell_type": "code",
   "execution_count": 30,
   "metadata": {},
   "outputs": [],
   "source": [
    "tmp = [[x, y, z] for x, y, z in zip(X_data, y_data, i_data)]\n",
    "\n",
    "random.shuffle(tmp)\n",
    "\n",
    "X_data = [n[0] for n in tmp]\n",
    "y_data = [n[1] for n in tmp]\n",
    "i_data = [n[2] for n in tmp]\n",
    "\n",
    "# npzDataPath = \"./\"\n",
    "# np.savez(os.path.join(npzDataPath, \"Test0919\"), X_data= X_data, y_data= y_data, i_data= i_data)"
   ]
  }
 ],
 "metadata": {
  "kernelspec": {
   "display_name": "tensorflow",
   "language": "python",
   "name": "python3"
  },
  "language_info": {
   "codemirror_mode": {
    "name": "ipython",
    "version": 3
   },
   "file_extension": ".py",
   "mimetype": "text/x-python",
   "name": "python",
   "nbconvert_exporter": "python",
   "pygments_lexer": "ipython3",
   "version": "3.9.16"
  }
 },
 "nbformat": 4,
 "nbformat_minor": 2
}
