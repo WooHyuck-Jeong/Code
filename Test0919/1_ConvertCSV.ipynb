{
 "cells": [
  {
   "cell_type": "code",
   "execution_count": 1,
   "metadata": {},
   "outputs": [],
   "source": [
    "import os\n",
    "import sys\n",
    "import glob\n",
    "import numpy as np\n",
    "import pandas as pd"
   ]
  },
  {
   "cell_type": "code",
   "execution_count": 2,
   "metadata": {},
   "outputs": [],
   "source": [
    "def makeDirectory(dirName):\n",
    "    if not os.path.exists(dirName):\n",
    "        os.makedirs(dirName, exist_ok= True)"
   ]
  },
  {
   "cell_type": "code",
   "execution_count": 3,
   "metadata": {},
   "outputs": [],
   "source": [
    "if sys.platform == \"darwin\":\n",
    "    folderPath = \"/Users/jwh/Desktop/0919/Test2/\"\n",
    "elif sys.platform == \"win32\":\n",
    "    folderPath = \"C:\\\\Users\\\\KOTC\\\\Desktop\\\\0919\\\\Test2\\\\\""
   ]
  },
  {
   "cell_type": "code",
   "execution_count": 4,
   "metadata": {},
   "outputs": [],
   "source": [
    "files = [file for file in sorted(glob.glob(folderPath + \"*\"))]"
   ]
  },
  {
   "cell_type": "code",
   "execution_count": 17,
   "metadata": {},
   "outputs": [],
   "source": [
    "if sys.platform == \"darwin\":\n",
    "    resultPath = folderPath + \"result/\"\n",
    "elif sys.platform == \"win32\":\n",
    "    resultPath = folderPath + \"result//\"\n",
    "\n",
    "makeDirectory(resultPath)"
   ]
  },
  {
   "cell_type": "code",
   "execution_count": 18,
   "metadata": {},
   "outputs": [],
   "source": [
    "# Global variables\n",
    "colName = \"col\"\n",
    "sensorNames = [f\"s{i}\" for i in np.arange(1, 7, 1)]\n",
    "skipNumber = 300\n",
    "useRow = 4000\n",
    "classIdx = [0, 11, 20, 21, 22, 23, 24, 25, 26, 1, 2, 3, 4, 5, 6, 7, 8, 9, 10, 12, 13, 14, 15, 16, 17, 18, 19]"
   ]
  },
  {
   "cell_type": "code",
   "execution_count": 19,
   "metadata": {},
   "outputs": [],
   "source": [
    "classFolder = [files[i] for i in classIdx]"
   ]
  },
  {
   "cell_type": "code",
   "execution_count": 20,
   "metadata": {},
   "outputs": [
    {
     "name": "stdout",
     "output_type": "stream",
     "text": [
      "C:\\Users\\KOTC\\Desktop\\0919\\Test2\\class_1\n",
      "C:\\Users\\KOTC\\Desktop\\0919\\Test2\\class_2\n",
      "C:\\Users\\KOTC\\Desktop\\0919\\Test2\\class_3\n",
      "C:\\Users\\KOTC\\Desktop\\0919\\Test2\\class_4\n",
      "C:\\Users\\KOTC\\Desktop\\0919\\Test2\\class_5\n",
      "C:\\Users\\KOTC\\Desktop\\0919\\Test2\\class_6\n",
      "C:\\Users\\KOTC\\Desktop\\0919\\Test2\\class_7\n",
      "C:\\Users\\KOTC\\Desktop\\0919\\Test2\\class_8\n",
      "C:\\Users\\KOTC\\Desktop\\0919\\Test2\\class_9\n",
      "C:\\Users\\KOTC\\Desktop\\0919\\Test2\\class_10\n",
      "C:\\Users\\KOTC\\Desktop\\0919\\Test2\\class_11\n",
      "C:\\Users\\KOTC\\Desktop\\0919\\Test2\\class_12\n",
      "C:\\Users\\KOTC\\Desktop\\0919\\Test2\\class_13\n",
      "C:\\Users\\KOTC\\Desktop\\0919\\Test2\\class_14\n",
      "C:\\Users\\KOTC\\Desktop\\0919\\Test2\\class_15\n",
      "C:\\Users\\KOTC\\Desktop\\0919\\Test2\\class_16\n",
      "C:\\Users\\KOTC\\Desktop\\0919\\Test2\\class_17\n",
      "C:\\Users\\KOTC\\Desktop\\0919\\Test2\\class_18\n",
      "C:\\Users\\KOTC\\Desktop\\0919\\Test2\\class_19\n",
      "C:\\Users\\KOTC\\Desktop\\0919\\Test2\\class_20\n",
      "C:\\Users\\KOTC\\Desktop\\0919\\Test2\\class_21\n",
      "C:\\Users\\KOTC\\Desktop\\0919\\Test2\\class_22\n",
      "C:\\Users\\KOTC\\Desktop\\0919\\Test2\\class_23\n",
      "C:\\Users\\KOTC\\Desktop\\0919\\Test2\\class_24\n",
      "C:\\Users\\KOTC\\Desktop\\0919\\Test2\\class_25\n",
      "C:\\Users\\KOTC\\Desktop\\0919\\Test2\\class_26\n",
      "C:\\Users\\KOTC\\Desktop\\0919\\Test2\\class_27\n"
     ]
    }
   ],
   "source": [
    "for c in classFolder:\n",
    "    print(c)"
   ]
  },
  {
   "cell_type": "code",
   "execution_count": 21,
   "metadata": {},
   "outputs": [
    {
     "name": "stdout",
     "output_type": "stream",
     "text": [
      "50\n",
      "class_1_1\n",
      "52\n",
      "class_10_1\n"
     ]
    }
   ],
   "source": [
    "classData = sorted(glob.glob(classFolder[0] + \"/*\"))\n",
    "file = classData[0]\n",
    "print(len(file))\n",
    "print(file[-9:])\n",
    "\n",
    "classData = sorted(glob.glob(classFolder[9] + \"/*\"))\n",
    "file = classData[0]\n",
    "print(len(file))\n",
    "print(file[-10:])"
   ]
  },
  {
   "cell_type": "code",
   "execution_count": 22,
   "metadata": {},
   "outputs": [],
   "source": [
    "def makeCSV(classFolder, savePath):\n",
    "    classData = sorted(glob.glob(classFolder + \"/*\"))\n",
    "\n",
    "    for file in classData:\n",
    "        df = pd.read_table(file, names= [colName], skiprows= skipNumber, nrows= useRow)\n",
    "        df = df.iloc[:, 0].str[-39:]\n",
    "        df = pd.DataFrame(df, columns= [colName])\n",
    "\n",
    "        s1 = df[colName].str[4:9]\n",
    "        s2 = df[colName].str[9:14]\n",
    "        s3 = df[colName].str[14:19]\n",
    "        s4 = df[colName].str[20:25]\n",
    "        s5 = df[colName].str[25:30]\n",
    "        s6 = df[colName].str[30:35]\n",
    "\n",
    "        res = [s1, s2, s3, s4, s5, s6]\n",
    "        res = pd.concat(res, axis= 1)\n",
    "        res.columns = sensorNames\n",
    "\n",
    "        if len(file) == 50:                                 # mac : 47\n",
    "            saveFileName = file[-9:] + \".csv\"\n",
    "        elif len(file) == 52:                               # mac : 49\n",
    "            saveFileName = file[-10:] + \".csv\"\n",
    "        \n",
    "        res.to_csv(savePath + saveFileName, index= False)"
   ]
  },
  {
   "cell_type": "code",
   "execution_count": 23,
   "metadata": {},
   "outputs": [],
   "source": [
    "for c in classFolder:\n",
    "    makeCSV(c, savePath= resultPath)"
   ]
  },
  {
   "cell_type": "code",
   "execution_count": 24,
   "metadata": {},
   "outputs": [],
   "source": [
    "if sys.platform == \"darwin\":\n",
    "    basePath = \"/Users/jwh/Desktop/0919/base\"\n",
    "elif sys.platform == \"win32\":\n",
    "    basePath = \"C:\\\\Users\\\\KOTC\\\\Desktop\\\\0919\\\\base\"\n",
    "\n",
    "base = pd.read_table(basePath, names= [colName], skiprows= skipNumber, nrows= useRow)\n",
    "base = base.iloc[:, 0].str[-39:]\n",
    "base = pd.DataFrame(base, columns= [colName])\n",
    "\n",
    "b1 = base[colName].str[4:9]\n",
    "b2 = base[colName].str[9:14]\n",
    "b3 = base[colName].str[14:19]\n",
    "b4 = base[colName].str[20:25]\n",
    "b5 = base[colName].str[25:30]\n",
    "b6 = base[colName].str[30:35]\n",
    "\n",
    "res = [b1, b2, b3, b4, b5, b6]\n",
    "base = pd.concat(res, axis= 1)\n",
    "base.columns = sensorNames\n",
    "\n",
    "base.to_csv(resultPath + \"base.csv\", index= False)"
   ]
  },
  {
   "cell_type": "code",
   "execution_count": null,
   "metadata": {},
   "outputs": [],
   "source": []
  }
 ],
 "metadata": {
  "kernelspec": {
   "display_name": "tensorflow",
   "language": "python",
   "name": "python3"
  },
  "language_info": {
   "codemirror_mode": {
    "name": "ipython",
    "version": 3
   },
   "file_extension": ".py",
   "mimetype": "text/x-python",
   "name": "python",
   "nbconvert_exporter": "python",
   "pygments_lexer": "ipython3",
   "version": "3.9.16"
  }
 },
 "nbformat": 4,
 "nbformat_minor": 2
}
