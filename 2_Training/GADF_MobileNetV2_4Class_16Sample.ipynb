{
 "cells": [
  {
   "cell_type": "code",
   "execution_count": 1,
   "metadata": {},
   "outputs": [],
   "source": [
    "import os\n",
    "import glob\n",
    "import time\n",
    "import random\n",
    "import numpy as np\n",
    "import pandas as pd\n",
    "import seaborn as sns\n",
    "import matplotlib.pyplot as plt\n",
    "\n",
    "import keras\n",
    "import tensorflow as tf\n",
    "from keras import optimizers\n",
    "from keras.utils import to_categorical\n",
    "from keras.layers import Dense, Input\n",
    "from keras.models import Model, load_model\n",
    "from keras.applications import MobileNetV2\n",
    "from sklearn.metrics import classification_report, confusion_matrix\n",
    "from sklearn.model_selection import train_test_split"
   ]
  },
  {
   "cell_type": "code",
   "execution_count": 2,
   "metadata": {},
   "outputs": [
    {
     "name": "stdout",
     "output_type": "stream",
     "text": [
      "X_data:  (2880, 16, 16, 3)\n",
      "y_data:  (2880,)\n",
      "i_data:  (2880,)\n"
     ]
    }
   ],
   "source": [
    "dataPath = \"../Data_Preprocessing/16Sample/4Class/GADF_4Class_16Sample.npz\"\n",
    "data = np.load(dataPath)\n",
    "\n",
    "X_data = data['X_data']\n",
    "y_data = data['y_data']\n",
    "i_data = data['i_data']\n",
    "\n",
    "data.close()\n",
    "\n",
    "print(\"X_data: \", X_data.shape)\n",
    "print(\"y_data: \", y_data.shape)\n",
    "print(\"i_data: \", i_data.shape)"
   ]
  },
  {
   "cell_type": "code",
   "execution_count": 3,
   "metadata": {},
   "outputs": [
    {
     "name": "stdout",
     "output_type": "stream",
     "text": [
      "(1843, 16, 16, 3) (576, 16, 16, 3) (461, 16, 16, 3)\n",
      "(1843,) (576,) (461,)\n",
      "(1843,) (576,) (461,)\n",
      "(array([0, 1, 2, 3]), array([461, 461, 460, 461]))\n",
      "(array([0, 1, 2, 3]), array([144, 144, 144, 144]))\n",
      "(array([0, 1, 2, 3]), array([115, 115, 116, 115]))\n"
     ]
    }
   ],
   "source": [
    "# Data split\n",
    "\n",
    "# Set random seed for reproductivity\n",
    "seed = 42\n",
    "\n",
    "# Train - Test split\n",
    "X_train, X_test, y_train, y_test, i_train, i_test = train_test_split(X_data, y_data, i_data, test_size= 0.2, shuffle= True, random_state= seed, stratify= y_data)\n",
    "\n",
    "# Train - Validation split\n",
    "X_train, X_val, y_train, y_val, i_train, i_val = train_test_split(X_train, y_train, i_train, test_size= 0.2, shuffle= True, random_state= seed, stratify= y_train)\n",
    "\n",
    "print(X_train.shape, X_test.shape, X_val.shape)\n",
    "print(y_train.shape, y_test.shape, y_val.shape)\n",
    "print(i_train.shape, i_test.shape, i_val.shape)\n",
    "\n",
    "print(np.unique(y_train, return_counts= True))\n",
    "print(np.unique(y_test, return_counts= True))\n",
    "print(np.unique(y_val, return_counts= True))"
   ]
  },
  {
   "cell_type": "code",
   "execution_count": 4,
   "metadata": {},
   "outputs": [
    {
     "name": "stdout",
     "output_type": "stream",
     "text": [
      "Train targets:  (1843, 4)\n",
      "Test targets:  (576, 4)\n",
      "Validation targets:  (461, 4)\n"
     ]
    }
   ],
   "source": [
    "# One - hot encoding\n",
    "trainTargets = to_categorical(y_train)\n",
    "testTargets = to_categorical(y_test)\n",
    "valTargets = to_categorical(y_val)\n",
    "\n",
    "print(\"Train targets: \", trainTargets.shape)\n",
    "print(\"Test targets: \", testTargets.shape)\n",
    "print(\"Validation targets: \", valTargets.shape)"
   ]
  },
  {
   "cell_type": "code",
   "execution_count": 5,
   "metadata": {},
   "outputs": [],
   "source": [
    "weightPath = \"./weights/\""
   ]
  },
  {
   "cell_type": "code",
   "execution_count": null,
   "metadata": {},
   "outputs": [],
   "source": [
    "# MobileNetV2 Transfer-learning\n",
    "# Import convolution layer\n",
    "# weight = None\n",
    "\n",
    "with tf.device(\"/device:GPU:0\"):\n",
    "    inputTensor = Input(shape= (16, 16, 3))\n",
    "\n",
    "    model = MobileNetV2(input_tensor= inputTensor,              # Input data shape\n",
    "                        include_top= False,                     # Only convolution layer. If True: Use Classification layer\n",
    "                        weights= None,                          # If weights= \"imagenet\" --> Use imagenet weights\n",
    "                        pooling= 'max')\n",
    "\n",
    "    x = model.output\n",
    "    x = Dense(4, activation= 'softmax', kernel_initializer= 'he_normal')(x)\n",
    "\n",
    "    model = Model(model.input, x)\n",
    "\n",
    "    # Instantiate optimizer\n",
    "    optim = optimizers.SGD(learning_rate= 0.01,\n",
    "                           decay= 1e-3,\n",
    "                           momentum= 0.9,\n",
    "                           nesterov= True)\n",
    "\n",
    "    # Compile model\n",
    "    model.compile(optimizer= optim,\n",
    "                  loss= 'categorical_crossentropy',\n",
    "                  metrics= ['accuracy'])\n",
    "\n",
    "    print(\"Training======================================\")\n",
    "    startTime = time.time()                                     # Training start time\n",
    "\n",
    "    history = model.fit(X_train, trainTargets,\n",
    "                        batch_size= 16,\n",
    "                        epochs= 200,\n",
    "                        verbose= 1,\n",
    "                        validation_data= (X_val, valTargets)\n",
    "                        )\n",
    "    \n",
    "    endTime = time.time()                                       # Training end time\n",
    "    print(f\"Training time: {np.round(endTime - startTime, 3)} sec\")\n",
    "\n",
    "    # save weight file\n",
    "    model.save(os.path.join(weightPath, \"GADF_MobileNetV2_3Class_16Sample.h5\"))\n",
    "\n",
    "    # Evaluate for total train dataset\n",
    "    print(\"Score for train dataset\")\n",
    "    score = model.evaluate(X_train, trainTargets, verbose= 1)\n",
    "    print(f\"Score: \\n{model.metrics_names[0]} : {score[0]}\\n{model.metrics_names[0]} : {score[1] * 100} %\")"
   ]
  },
  {
   "cell_type": "code",
   "execution_count": 8,
   "metadata": {},
   "outputs": [],
   "source": [
    "def plotHistory(history, train, validation):\n",
    "    \"\"\"\n",
    "        plot training history\n",
    "        Parameters\n",
    "        ------------------------------\n",
    "        history = history\n",
    "        train = 'accuracy' or 'loss'\n",
    "        validation = 'val_accuracy' or 'val_loss'\n",
    "    \"\"\"\n",
    "    plt.figure(figsize= (8, 6))\n",
    "    plt.plot(history.history[train])\n",
    "    plt.plot(history.history[validation])\n",
    "    plt.legend(['train', 'validation'], loc= 'center right')\n",
    "    plt.xlabel(\"Epochs\")\n",
    "    if train == 'accuracy':\n",
    "        plt.ylabel(\"Accuracy\")\n",
    "        plt.title(f\"Accuracy for train dataset\")\n",
    "    elif train == \"loss\":\n",
    "        plt.ylabel(\"Loss\")\n",
    "        plt.title(\"Loss for train dataset\")\n",
    "    plt.show()"
   ]
  },
  {
   "cell_type": "code",
   "execution_count": null,
   "metadata": {},
   "outputs": [],
   "source": [
    "plotHistory(history= history, train= 'accuracy', validation= 'val_accuracy')\n",
    "plotHistory(history= history, train= 'loss', validation= 'val_loss')"
   ]
  },
  {
   "cell_type": "code",
   "execution_count": null,
   "metadata": {},
   "outputs": [],
   "source": [
    "# Prediction for test dataset\n",
    "\n",
    "prediction = model.predict(X_test)\n",
    "predictionClass = np.argmax(prediction, axis= 1)        # One-hot encoding --> Original label\n",
    "\n",
    "# Actual Class (One-hot encoding testTarget --> y_test)\n",
    "if testTargets.ndim > 1:\n",
    "    actualClass = np.argmax(testTargets, axis= 1)\n",
    "else:\n",
    "    actualClass = testTargets\n",
    "\n",
    "# Classification report\n",
    "print(f\"Classification report: \\n{classification_report(actualClass, predictionClass)}\")\n",
    "\n",
    "# Confusion matrix\n",
    "plt.figure(figsize= (8, 6))\n",
    "sns.heatmap(confusion_matrix(actualClass, predictionClass), \n",
    "            annot= True, \n",
    "            fmt= \"d\", \n",
    "            cmap= \"Blues\",\n",
    "            cbar= False)\n",
    "plt.title(\"Confusion matrix for test dataset\")\n",
    "plt.xlabel(\"Prediction class\")\n",
    "plt.ylabel(\"Actual class\")\n",
    "plt.show()"
   ]
  },
  {
   "cell_type": "code",
   "execution_count": null,
   "metadata": {},
   "outputs": [],
   "source": [
    "# Prediction for 1 image\n",
    "\n",
    "randomImgIdx = random.randrange(0, X_test.shape[0])\n",
    "\n",
    "predictStartTime = time.time()\n",
    "\n",
    "predictionImg = X_test[randomImgIdx]\n",
    "predictionImg = np.expand_dims(predictionImg, axis= 0)\n",
    "\n",
    "testPrediction = model.predict(predictionImg)\n",
    "\n",
    "predictEndTime = time.time()\n",
    "\n",
    "print(\"Random image index: \", randomImgIdx)\n",
    "print(\"Random actual label: \", i_test[randomImgIdx])\n",
    "print(\"Random actual class: \", actualClass[randomImgIdx])\n",
    "print(\"Random prediction class: \", predictionClass[randomImgIdx])"
   ]
  }
 ],
 "metadata": {
  "kernelspec": {
   "display_name": "tensorflow",
   "language": "python",
   "name": "python3"
  },
  "language_info": {
   "codemirror_mode": {
    "name": "ipython",
    "version": 3
   },
   "file_extension": ".py",
   "mimetype": "text/x-python",
   "name": "python",
   "nbconvert_exporter": "python",
   "pygments_lexer": "ipython3",
   "version": "3.9.16"
  }
 },
 "nbformat": 4,
 "nbformat_minor": 2
}
