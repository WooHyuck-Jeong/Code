{
 "cells": [
  {
   "cell_type": "code",
   "execution_count": 18,
   "metadata": {},
   "outputs": [],
   "source": [
    "import os\n",
    "import glob\n",
    "import random\n",
    "import numpy as np\n",
    "import pandas as pd\n",
    "import matplotlib.pyplot as plt\n",
    "\n",
    "from pyts.image import GramianAngularField\n",
    "from PIL import Image"
   ]
  },
  {
   "cell_type": "code",
   "execution_count": 2,
   "metadata": {},
   "outputs": [],
   "source": [
    "dataPath = \"/Users/jwh/Documents/KOTC/수중도킹/2024년도/6_자기장센서 시험/Test0730/Test2/result/\"\n",
    "fileNames = [file for file in sorted(glob.glob(dataPath + \"*.csv\")) if os.path.isfile(file)]"
   ]
  },
  {
   "cell_type": "code",
   "execution_count": 3,
   "metadata": {},
   "outputs": [],
   "source": [
    "sensorNames = [f\"s{i}\" for i in np.arange(1, 7, 1 )]\n",
    "\n",
    "fileIdx = [1, 8, 9, 10, 11, 12, 13, 14, 15, 2, 3, 4, 5, 6, 7]\n",
    "\n",
    "numRows = 1920"
   ]
  },
  {
   "cell_type": "code",
   "execution_count": 4,
   "metadata": {},
   "outputs": [],
   "source": [
    "fileList = [fileNames[idx] for idx in fileIdx]\n",
    "files = [pd.read_csv(file, sep= \",\", nrows= numRows) for file in fileList]"
   ]
  },
  {
   "cell_type": "code",
   "execution_count": 5,
   "metadata": {},
   "outputs": [
    {
     "data": {
      "text/html": [
       "<div>\n",
       "<style scoped>\n",
       "    .dataframe tbody tr th:only-of-type {\n",
       "        vertical-align: middle;\n",
       "    }\n",
       "\n",
       "    .dataframe tbody tr th {\n",
       "        vertical-align: top;\n",
       "    }\n",
       "\n",
       "    .dataframe thead th {\n",
       "        text-align: right;\n",
       "    }\n",
       "</style>\n",
       "<table border=\"1\" class=\"dataframe\">\n",
       "  <thead>\n",
       "    <tr style=\"text-align: right;\">\n",
       "      <th></th>\n",
       "      <th>base</th>\n",
       "    </tr>\n",
       "  </thead>\n",
       "  <tbody>\n",
       "    <tr>\n",
       "      <th>s1</th>\n",
       "      <td>-825.509896</td>\n",
       "    </tr>\n",
       "    <tr>\n",
       "      <th>s2</th>\n",
       "      <td>-862.213021</td>\n",
       "    </tr>\n",
       "    <tr>\n",
       "      <th>s3</th>\n",
       "      <td>-915.934375</td>\n",
       "    </tr>\n",
       "    <tr>\n",
       "      <th>s4</th>\n",
       "      <td>820.602083</td>\n",
       "    </tr>\n",
       "    <tr>\n",
       "      <th>s5</th>\n",
       "      <td>822.820312</td>\n",
       "    </tr>\n",
       "  </tbody>\n",
       "</table>\n",
       "</div>"
      ],
      "text/plain": [
       "          base\n",
       "s1 -825.509896\n",
       "s2 -862.213021\n",
       "s3 -915.934375\n",
       "s4  820.602083\n",
       "s5  822.820312"
      ]
     },
     "execution_count": 5,
     "metadata": {},
     "output_type": "execute_result"
    }
   ],
   "source": [
    "base = pd.read_csv(fileNames[0], sep= \",\", nrows= numRows)\n",
    "meanBase = pd.DataFrame(base.mean(axis= 0), columns= ['base'])\n",
    "\n",
    "meanBase.head()"
   ]
  },
  {
   "cell_type": "code",
   "execution_count": 6,
   "metadata": {},
   "outputs": [],
   "source": [
    "def calibration(df):\n",
    "    res = [df.iloc[:, i] - meanBase.iloc[i, 0] for i in range(6)]\n",
    "    res = np.array(res).reshape(6, -1).T\n",
    "    res = pd.DataFrame(res, columns= sensorNames)\n",
    "    return res"
   ]
  },
  {
   "cell_type": "code",
   "execution_count": 7,
   "metadata": {},
   "outputs": [
    {
     "data": {
      "text/plain": [
       "(15, 6, 1920, 1)"
      ]
     },
     "execution_count": 7,
     "metadata": {},
     "output_type": "execute_result"
    }
   ],
   "source": [
    "calibrated = [calibration(files[i]) for i in range(len(files))]\n",
    "calibrated = np.array(calibrated)\n",
    "calibrated = calibrated.reshape(15, 6, 1920, 1)\n",
    "calibrated.shape"
   ]
  },
  {
   "cell_type": "code",
   "execution_count": 8,
   "metadata": {},
   "outputs": [
    {
     "data": {
      "text/plain": [
       "(15, 6, 120, 16, 1)"
      ]
     },
     "execution_count": 8,
     "metadata": {},
     "output_type": "execute_result"
    }
   ],
   "source": [
    "splitedCase = []\n",
    "for i in range(calibrated.shape[0]):\n",
    "    splitedSensor = []\n",
    "    for j in range(calibrated.shape[1]):\n",
    "        splitedData = []\n",
    "        for k in range(int(len(calibrated[i, j]) / 16)):\n",
    "            splited = calibrated[i, j, k * 16 : (16 + (k * 16)), :]\n",
    "            splitedData.append(splited)\n",
    "        splitedData = np.array(splitedData)\n",
    "        splitedSensor.append(splitedData)\n",
    "    splitedSensor = np.array(splitedSensor)\n",
    "    splitedCase.append(splitedSensor)\n",
    "splitedCase = np.array(splitedCase)\n",
    "\n",
    "splitedCase.shape"
   ]
  },
  {
   "cell_type": "code",
   "execution_count": 9,
   "metadata": {},
   "outputs": [
    {
     "name": "stdout",
     "output_type": "stream",
     "text": [
      "(15, 6, 120, 16, 16)\n"
     ]
    }
   ],
   "source": [
    "gaf = GramianAngularField(method= 'difference')\n",
    "\n",
    "encodedResult = []\n",
    "for i in range(splitedCase.shape[0]):\n",
    "    encodedSensor = []\n",
    "    for j in range(splitedCase.shape[1]):\n",
    "        encodedData = []\n",
    "        for k in range(splitedCase.shape[2]):\n",
    "            data = splitedCase[i, j, k, :]\n",
    "            encoded = gaf.fit_transform(data.T)\n",
    "            encoded = encoded.reshape(16, 16)\n",
    "            encodedData.append(encoded)\n",
    "        encodedData = np.array(encodedData)\n",
    "        encodedSensor.append(encodedData)\n",
    "    encodedSensor = np.array(encodedSensor)\n",
    "    encodedResult.append(encodedSensor)\n",
    "encodedResult = np.array(encodedResult)\n",
    "\n",
    "print(encodedResult.shape)"
   ]
  },
  {
   "cell_type": "code",
   "execution_count": 10,
   "metadata": {},
   "outputs": [
    {
     "name": "stdout",
     "output_type": "stream",
     "text": [
      "(15, 120, 16, 16, 6)\n"
     ]
    }
   ],
   "source": [
    "concatenateResult = []\n",
    "for c in range(encodedResult.shape[0]):\n",
    "    sensor1 = encodedResult[c, 0]\n",
    "    sensor2 = encodedResult[c, 1]\n",
    "    sensor3 = encodedResult[c, 2]\n",
    "    sensor4 = encodedResult[c, 3]\n",
    "    sensor5 = encodedResult[c, 4]\n",
    "    sensor6 = encodedResult[c, 5]\n",
    "\n",
    "    concatenateImg = []\n",
    "    for d in range(encodedResult.shape[2]):\n",
    "        sensor1Img = sensor1[d].reshape(16, 16, 1)\n",
    "        sensor2Img = sensor2[d].reshape(16, 16, 1)\n",
    "        sensor3Img = sensor3[d].reshape(16, 16, 1)\n",
    "        sensor4Img = sensor4[d].reshape(16, 16, 1)\n",
    "        sensor5Img = sensor5[d].reshape(16, 16, 1)\n",
    "        sensor6Img = sensor6[d].reshape(16, 16, 1)\n",
    "\n",
    "        res = np.concatenate((sensor1Img, sensor2Img), axis= 2)\n",
    "        res = np.concatenate((res, sensor3Img), axis= 2)\n",
    "        res = np.concatenate((res, sensor4Img), axis= 2)\n",
    "        res = np.concatenate((res, sensor5Img), axis= 2)\n",
    "        res = np.concatenate((res, sensor6Img), axis= 2)\n",
    "\n",
    "        concatenateImg.append(res)\n",
    "\n",
    "    concatenateImg = np.array(concatenateImg)\n",
    "    concatenateResult.append(concatenateImg)\n",
    "concatenateResult = np.array(concatenateResult)\n",
    "\n",
    "print(concatenateResult.shape)"
   ]
  },
  {
   "cell_type": "code",
   "execution_count": 11,
   "metadata": {},
   "outputs": [
    {
     "name": "stdout",
     "output_type": "stream",
     "text": [
      "In:  (3, 120, 16, 16, 6)\n",
      "Out:  (3, 120, 16, 16, 6)\n",
      "Left:  (3, 120, 16, 16, 6)\n",
      "Right:  (3, 120, 16, 16, 6)\n"
     ]
    }
   ],
   "source": [
    "inIdx = [0, 1, 10]\n",
    "outIdx = [3, 4, 14]\n",
    "leftIdx = [2, 7, 8]\n",
    "rightIdx = [5, 11, 12]\n",
    "\n",
    "concateIn = [concatenateResult[idx] for idx in inIdx]\n",
    "concateOut = [concatenateResult[idx] for idx in outIdx]\n",
    "concateLeft = [concatenateResult[idx] for idx in leftIdx]\n",
    "concateRight = [concatenateResult[idx] for idx in rightIdx]\n",
    "\n",
    "concateIn = np.array(concateIn)\n",
    "concateOut = np.array(concateOut)\n",
    "concateLeft = np.array(concateLeft)\n",
    "concateRight = np.array(concateRight)\n",
    "\n",
    "print(\"In: \", concateIn.shape)\n",
    "print(\"Out: \", concateOut.shape)\n",
    "print(\"Left: \", concateLeft.shape)\n",
    "print(\"Right: \", concateRight.shape)"
   ]
  },
  {
   "cell_type": "code",
   "execution_count": 14,
   "metadata": {},
   "outputs": [],
   "source": [
    "# Image save X\n",
    "\n",
    "inCounter = 0\n",
    "outCounter = 0\n",
    "leftCounter = 0\n",
    "rightCounter = 0\n",
    "\n",
    "inClassImg = []\n",
    "outClassImg = []\n",
    "leftClassImg = []\n",
    "rightClassImg = []\n",
    "\n",
    "inLabelList = []\n",
    "outLabelList = []\n",
    "leftLabelList = []\n",
    "rightLabelList = []\n",
    "\n",
    "y_in = []\n",
    "y_out = []\n",
    "y_left = []\n",
    "y_right = []\n",
    "\n",
    "for n in range(3):\n",
    "    for d in range(concateIn.shape[1]):\n",
    "        inImg1 = np.clip(concateIn[n, d, :, :, :3], 0., 1.)\n",
    "        inImg2 = np.clip(concateIn[n, d, :, :, 3:6], 0., 1.)\n",
    "        outImg1 = np.clip(concateOut[n, d, :, :, :3], 0., 1.)\n",
    "        outImg2 = np.clip(concateOut[n, d, :, :, 3:6], 0., 1.)\n",
    "        leftImg1 = np.clip(concateLeft[n, d, :, :, :3], 0., 1.)\n",
    "        leftImg2 = np.clip(concateLeft[n, d, :, :, 3:6], 0., 1.)\n",
    "        rightImg1 = np.clip(concateRight[n, d, :, :, :3], 0., 1.)\n",
    "        rightImg2 = np.clip(concateRight[n, d, :, :, 3:6], 0., 1.)\n",
    "\n",
    "        inClassImg.append(inImg1)\n",
    "        inLabelList.append(f\"I_{inCounter}\")\n",
    "        y_in.append(0)\n",
    "        inCounter += 1\n",
    "\n",
    "        outClassImg.append(outImg1)\n",
    "        outLabelList.append(f\"O_{outCounter}\")\n",
    "        y_out.append(1)\n",
    "        outCounter += 1\n",
    "        \n",
    "        leftClassImg.append(leftImg1)\n",
    "        leftLabelList.append(f\"L_{leftCounter}\")\n",
    "        y_left.append(2)\n",
    "        leftCounter += 1\n",
    "\n",
    "        rightClassImg.append(rightImg1)\n",
    "        rightLabelList.append(f\"R_{rightCounter}\")\n",
    "        y_right.append(3)\n",
    "        rightCounter += 1\n",
    "\n",
    "        inClassImg.append(inImg2)\n",
    "        inLabelList.append(f\"I_{inCounter}\")\n",
    "        y_in.append(0)\n",
    "        inCounter += 1\n",
    "\n",
    "        outClassImg.append(outImg2)\n",
    "        outLabelList.append(f\"O_{outCounter}\")\n",
    "        y_out.append(1)\n",
    "        outCounter += 1\n",
    "        \n",
    "        leftClassImg.append(leftImg2)\n",
    "        leftLabelList.append(f\"L_{leftCounter}\")\n",
    "        y_left.append(2)\n",
    "        leftCounter += 1\n",
    "\n",
    "        rightClassImg.append(rightImg2)\n",
    "        rightLabelList.append(f\"R_{rightCounter}\")\n",
    "        y_right.append(3)\n",
    "        rightCounter += 1"
   ]
  },
  {
   "cell_type": "code",
   "execution_count": 12,
   "metadata": {},
   "outputs": [
    {
     "data": {
      "text/plain": [
       "'\\nbasePath = \"./Images/\"\\ninPath = os.path.join(basePath, \"In/\")\\noutPath = os.path.join(basePath, \"Out/)\\nleftPath = os.path.join(basePath, \"Left/\")\\nrightPath = os.path.join(basePath, \"Right/\")\\n\\nos.makedirs(inPath, exist_ok= True)\\nos.makedirs(outPath, exist_ok= True)\\nos.makedirs(leftPath, exist_ok= True)\\nos.makedirs(rightPath, exist_ok= True)\\n\\ncounter = 0\\nfor n in range(concateIn.shape[0]):\\n    for d in range(concateIn.shape[1]):\\n        img1 = concateIn[n, d, :, :, :3]\\n        img2 = concateIn[n, d, :, :, 3:6]\\n\\n        img1 = np.clip(img1, 0., 1.)\\n        img2 = np.clip(img2, 0., 1.)\\n\\n        saveInName1 = f\"In_{counter}.png\"\\n        filePath1 = os.path.join(inPath, saveInName1)\\n        plt.imsave(filePath1, img1)\\n\\n        counter += 1\\n\\n        saveInName2 = f\"In_{counter}.png\"\\n        filePath2 = os.path.join(inPath, saveInName2)\\n        plt.imsave(filePath2, img2)\\n\\n        counter += 1\\n\\n        \\ncounter = 0\\nfor n in range(concateOut.shape[0]):\\n    for d in range(concateOut.shape[1]):\\n        img1 = concateOut[n, d, :, :, :3]\\n        img2 = concateOut[n, d, :, :, 3:6]\\n\\n        img1 = np.clip(img1, 0., 1.)\\n        img2 = np.clip(img2, 0., 1.)\\n\\n        saveOutName1 = f\"Out_{counter}.png\"\\n        filePath1 = os.path.join(outPath, saveOutName1)\\n        plt.imsave(filePath1, img1)\\n\\n        counter += 1\\n\\n        saveOutName2 = f\"Out_{counter}.png\"\\n        filePath2 = os.path.join(outPath, saveOutName2)\\n        plt.imsave(filePath2, img2)\\n\\n        counter += 1\\n\\n\\ncounter = 0\\nfor n in range(concateLeft.shape[0]):\\n    for d in range(concateLeft.shape[1]):\\n        img1 = concateLeft[n, d, :, :, :3]\\n        img2 = concateLeft[n, d, :, :, 3:6]\\n\\n        img1 = np.clip(img1, 0., 1.)\\n        img2 = np.clip(img2, 0., 1.)\\n\\n        saveInName1 = f\"Left_{counter}.png\"\\n        filePath1 = os.path.join(leftPath, saveInName1)\\n        plt.imsave(filePath1, img1)\\n\\n        counter += 1\\n\\n        saveInName2 = f\"Left_{counter}.png\"\\n        filePath2 = os.path.join(leftPath, saveInName2)\\n        plt.imsave(filePath2, img2)\\n\\n        counter += 1\\n\\ncounter = 0\\nfor n in range(concateRight.shape[0]):\\n    for d in range(concateRight.shape[1]):\\n        img1 = concateRight[n, d, :, :, :3]\\n        img2 = concateRight[n, d, :, :, 3:6]\\n\\n        img1 = np.clip(img1, 0., 1.)\\n        img2 = np.clip(img2, 0., 1.)\\n\\n        saveInName1 = f\"Right_{counter}.png\"\\n        filePath1 = os.path.join(rightPath, saveInName1)\\n        plt.imsave(filePath1, img1)\\n\\n        counter += 1\\n\\n        saveInName2 = f\"Right_{counter}.png\"\\n        filePath2 = os.path.join(rightPath, saveInName2)\\n        plt.imsave(filePath2, img2)\\n\\n        counter += 1'"
      ]
     },
     "execution_count": 12,
     "metadata": {},
     "output_type": "execute_result"
    }
   ],
   "source": [
    "# Image save\n",
    "\n",
    "\"\"\"\n",
    "basePath = \"./Images/\"\n",
    "inPath = os.path.join(basePath, \"In/\")\n",
    "outPath = os.path.join(basePath, \"Out/)\n",
    "leftPath = os.path.join(basePath, \"Left/\")\n",
    "rightPath = os.path.join(basePath, \"Right/\")\n",
    "\n",
    "os.makedirs(inPath, exist_ok= True)\n",
    "os.makedirs(outPath, exist_ok= True)\n",
    "os.makedirs(leftPath, exist_ok= True)\n",
    "os.makedirs(rightPath, exist_ok= True)\n",
    "\n",
    "counter = 0\n",
    "for n in range(concateIn.shape[0]):\n",
    "    for d in range(concateIn.shape[1]):\n",
    "        img1 = concateIn[n, d, :, :, :3]\n",
    "        img2 = concateIn[n, d, :, :, 3:6]\n",
    "\n",
    "        img1 = np.clip(img1, 0., 1.)\n",
    "        img2 = np.clip(img2, 0., 1.)\n",
    "\n",
    "        saveInName1 = f\"In_{counter}.png\"\n",
    "        filePath1 = os.path.join(inPath, saveInName1)\n",
    "        plt.imsave(filePath1, img1)\n",
    "\n",
    "        counter += 1\n",
    "\n",
    "        saveInName2 = f\"In_{counter}.png\"\n",
    "        filePath2 = os.path.join(inPath, saveInName2)\n",
    "        plt.imsave(filePath2, img2)\n",
    "\n",
    "        counter += 1\n",
    "\n",
    "        \n",
    "counter = 0\n",
    "for n in range(concateOut.shape[0]):\n",
    "    for d in range(concateOut.shape[1]):\n",
    "        img1 = concateOut[n, d, :, :, :3]\n",
    "        img2 = concateOut[n, d, :, :, 3:6]\n",
    "\n",
    "        img1 = np.clip(img1, 0., 1.)\n",
    "        img2 = np.clip(img2, 0., 1.)\n",
    "\n",
    "        saveOutName1 = f\"Out_{counter}.png\"\n",
    "        filePath1 = os.path.join(outPath, saveOutName1)\n",
    "        plt.imsave(filePath1, img1)\n",
    "\n",
    "        counter += 1\n",
    "\n",
    "        saveOutName2 = f\"Out_{counter}.png\"\n",
    "        filePath2 = os.path.join(outPath, saveOutName2)\n",
    "        plt.imsave(filePath2, img2)\n",
    "\n",
    "        counter += 1\n",
    "\n",
    "\n",
    "counter = 0\n",
    "for n in range(concateLeft.shape[0]):\n",
    "    for d in range(concateLeft.shape[1]):\n",
    "        img1 = concateLeft[n, d, :, :, :3]\n",
    "        img2 = concateLeft[n, d, :, :, 3:6]\n",
    "\n",
    "        img1 = np.clip(img1, 0., 1.)\n",
    "        img2 = np.clip(img2, 0., 1.)\n",
    "\n",
    "        saveInName1 = f\"Left_{counter}.png\"\n",
    "        filePath1 = os.path.join(leftPath, saveInName1)\n",
    "        plt.imsave(filePath1, img1)\n",
    "\n",
    "        counter += 1\n",
    "\n",
    "        saveInName2 = f\"Left_{counter}.png\"\n",
    "        filePath2 = os.path.join(leftPath, saveInName2)\n",
    "        plt.imsave(filePath2, img2)\n",
    "\n",
    "        counter += 1\n",
    "\n",
    "counter = 0\n",
    "for n in range(concateRight.shape[0]):\n",
    "    for d in range(concateRight.shape[1]):\n",
    "        img1 = concateRight[n, d, :, :, :3]\n",
    "        img2 = concateRight[n, d, :, :, 3:6]\n",
    "\n",
    "        img1 = np.clip(img1, 0., 1.)\n",
    "        img2 = np.clip(img2, 0., 1.)\n",
    "\n",
    "        saveInName1 = f\"Right_{counter}.png\"\n",
    "        filePath1 = os.path.join(rightPath, saveInName1)\n",
    "        plt.imsave(filePath1, img1)\n",
    "\n",
    "        counter += 1\n",
    "\n",
    "        saveInName2 = f\"Right_{counter}.png\"\n",
    "        filePath2 = os.path.join(rightPath, saveInName2)\n",
    "        plt.imsave(filePath2, img2)\n",
    "\n",
    "        counter += 1\"\"\""
   ]
  },
  {
   "cell_type": "code",
   "execution_count": 15,
   "metadata": {},
   "outputs": [
    {
     "name": "stdout",
     "output_type": "stream",
     "text": [
      "(720, 16, 16, 3)\n",
      "(720, 16, 16, 3)\n",
      "(720, 16, 16, 3)\n",
      "(720, 16, 16, 3)\n"
     ]
    }
   ],
   "source": [
    "# X data\n",
    "\n",
    "inClassImg = np.array(inClassImg)\n",
    "outClassImg = np.array(outClassImg)\n",
    "leftClassImg = np.array(leftClassImg)\n",
    "rightClassImg = np.array(rightClassImg)\n",
    "\n",
    "print(inClassImg.shape)\n",
    "print(outClassImg.shape)\n",
    "print(leftClassImg.shape)\n",
    "print(rightClassImg.shape)"
   ]
  },
  {
   "cell_type": "code",
   "execution_count": 16,
   "metadata": {},
   "outputs": [
    {
     "name": "stdout",
     "output_type": "stream",
     "text": [
      "(720,)\n",
      "(720,)\n",
      "(720,)\n"
     ]
    }
   ],
   "source": [
    "# y data\n",
    "\n",
    "y_in = np.array(y_in)\n",
    "y_left = np.array(y_left)\n",
    "y_right = np.array(y_right)\n",
    "\n",
    "print(y_in.shape)\n",
    "print(y_left.shape)\n",
    "print(y_right.shape)"
   ]
  },
  {
   "cell_type": "code",
   "execution_count": 19,
   "metadata": {},
   "outputs": [
    {
     "name": "stdout",
     "output_type": "stream",
     "text": [
      "(720,)\n",
      "(720,)\n",
      "(720,)\n"
     ]
    }
   ],
   "source": [
    "# i data\n",
    "\n",
    "inLabelIdx = np.array(inLabelList)\n",
    "outLabelIdx = np.array(outLabelList)\n",
    "leftLabelIdx = np.array(leftLabelList)\n",
    "rightLabelIdx = np.array(rightLabelList)\n",
    "\n",
    "print(inLabelIdx.shape)\n",
    "print(leftLabelIdx.shape)\n",
    "print(rightLabelIdx.shape)"
   ]
  },
  {
   "cell_type": "code",
   "execution_count": 20,
   "metadata": {},
   "outputs": [],
   "source": [
    "# Save dataset for MobileNetV2 Training\n",
    "\n",
    "magnetic = np.concatenate([inClassImg, outClassImg, leftClassImg, rightClassImg])\n",
    "labelData = np.concatenate([y_in, y_out, y_left, y_right])\n",
    "indexData = np.concatenate([inLabelIdx, outLabelIdx, leftLabelIdx, rightLabelIdx])\n",
    "\n",
    "tmp = [[x, y, z] for x, y, z in zip(magnetic, labelData, indexData)]\n",
    "\n",
    "random.shuffle(tmp)\n",
    "\n",
    "X_data = [n[0] for n in tmp]\n",
    "y_data = [n[1] for n in tmp]\n",
    "i_data = [n[2] for n in tmp]\n",
    "\n",
    "npzPath = \"./\"\n",
    "np.savez(os.path.join(npzPath, \"GADF_4Class_16Sample\"), X_data= X_data, y_data= y_data, i_data= i_data)"
   ]
  },
  {
   "cell_type": "code",
   "execution_count": null,
   "metadata": {},
   "outputs": [],
   "source": []
  }
 ],
 "metadata": {
  "kernelspec": {
   "display_name": "tensorflow",
   "language": "python",
   "name": "python3"
  },
  "language_info": {
   "codemirror_mode": {
    "name": "ipython",
    "version": 3
   },
   "file_extension": ".py",
   "mimetype": "text/x-python",
   "name": "python",
   "nbconvert_exporter": "python",
   "pygments_lexer": "ipython3",
   "version": "3.9.16"
  }
 },
 "nbformat": 4,
 "nbformat_minor": 2
}
