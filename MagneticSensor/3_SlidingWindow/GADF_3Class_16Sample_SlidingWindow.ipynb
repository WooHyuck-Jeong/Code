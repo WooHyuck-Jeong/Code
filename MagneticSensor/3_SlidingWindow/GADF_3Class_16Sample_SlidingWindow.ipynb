{
 "cells": [
  {
   "cell_type": "code",
   "execution_count": 3,
   "metadata": {},
   "outputs": [],
   "source": [
    "import os\n",
    "import sys\n",
    "import glob\n",
    "import random\n",
    "import numpy as np\n",
    "import pandas as pd\n",
    "import matplotlib.pyplot as plt\n",
    "\n",
    "from pyts.image import GramianAngularField"
   ]
  },
  {
   "cell_type": "code",
   "execution_count": 4,
   "metadata": {},
   "outputs": [],
   "source": [
    "if sys.platform == \"win32\":\n",
    "    dataPath = \"C:\\\\Users\\\\KOTC\\\\Desktop\\\\Test2\\\\result\\\\\"\n",
    "elif sys.platform == \"darwin\":\n",
    "    dataPath = \"/Users/jwh/Documents/KOTC/수중도킹/2024년도/6_자기장센서 시험/Test0730/Test2/result/\"\n",
    "\n",
    "fileNames = [file for file in sorted(glob.glob(dataPath + \"*.csv\")) if os.path.isfile(file)]\n",
    "\n",
    "sensorNames = [f\"s{i}\" for i in np.arange(1, 7, 1)]\n",
    "\n",
    "fileIdx = [1, 8, 9, 10, 11, 12, 13, 14, 15, 2, 3, 4, 5, 6, 7]\n",
    "\n",
    "numRows = 1920\n",
    "\n",
    "fileList = [fileNames[idx] for idx in fileIdx]\n",
    "\n",
    "files = [pd.read_csv(file, sep= \",\", nrows= numRows) for file in fileList]"
   ]
  },
  {
   "cell_type": "code",
   "execution_count": 5,
   "metadata": {},
   "outputs": [],
   "source": [
    "base = pd.read_csv(fileNames[0], sep= \",\", nrows= numRows)\n",
    "meanBase = pd.DataFrame(base.mean(axis= 0), columns= ['base'])"
   ]
  },
  {
   "cell_type": "code",
   "execution_count": 6,
   "metadata": {},
   "outputs": [],
   "source": [
    "def calibration(df):\n",
    "    res = [df.iloc[:, i] - meanBase.iloc[i, 0] for i in range(6)]\n",
    "    res = np.array(res).reshape(6, -1).T\n",
    "    res = pd.DataFrame(res, columns= sensorNames)\n",
    "    return res"
   ]
  },
  {
   "cell_type": "code",
   "execution_count": 7,
   "metadata": {},
   "outputs": [
    {
     "name": "stdout",
     "output_type": "stream",
     "text": [
      "(15, 1920, 6)\n"
     ]
    }
   ],
   "source": [
    "calibrated = [calibration(files[i]) for i in range(len(files))]\n",
    "calibrated = np.array(calibrated)\n",
    "\n",
    "print(calibrated.shape)"
   ]
  },
  {
   "cell_type": "code",
   "execution_count": 8,
   "metadata": {},
   "outputs": [],
   "source": [
    "gadf = GramianAngularField(image_size= 16, method= 'difference')\n",
    "\n",
    "def sliding_window(data, window_size= 16, step_size= 1):\n",
    "    n_cases, n_samples, n_sensors= data.shape\n",
    "    n_windows = (n_samples - window_size) // step_size + 1     # 슬라이딩 윈도우 개수\n",
    "\n",
    "    gadf_images = np.zeros((n_cases, n_windows, 16, 16, n_sensors))\n",
    "\n",
    "    for i in range(n_cases):\n",
    "        for j in range(n_windows):\n",
    "            # 슬라이딩 윈도우로 데이터 분ㄴ할\n",
    "            window_data = data[i, j : j + window_size, :]\n",
    "\n",
    "            # 각 센서에 대해 GADF 변환\n",
    "            for k in range(n_sensors):\n",
    "                sensor_image = gadf.fit_transform(window_data[:, k].reshape(1, -1))\n",
    "                gadf_images[i, j, :, :, k] = sensor_image[0]\n",
    "    \n",
    "    return gadf_images"
   ]
  },
  {
   "cell_type": "code",
   "execution_count": 9,
   "metadata": {},
   "outputs": [],
   "source": [
    "windowSize = 16\n",
    "stepSize = 1"
   ]
  },
  {
   "cell_type": "code",
   "execution_count": 10,
   "metadata": {},
   "outputs": [
    {
     "name": "stdout",
     "output_type": "stream",
     "text": [
      "(15, 1905, 16, 16, 6)\n"
     ]
    }
   ],
   "source": [
    "encodingResult = sliding_window(calibrated,\n",
    "                                window_size= windowSize,\n",
    "                                step_size= stepSize\n",
    "                                )\n",
    "\n",
    "print(encodingResult.shape)"
   ]
  },
  {
   "cell_type": "code",
   "execution_count": 11,
   "metadata": {},
   "outputs": [
    {
     "name": "stdout",
     "output_type": "stream",
     "text": [
      "(3, 1905, 16, 16, 6)\n",
      "(3, 1905, 16, 16, 6)\n",
      "(3, 1905, 16, 16, 6)\n"
     ]
    }
   ],
   "source": [
    "inIdx = [0, 1, 10]\n",
    "leftIdx = [2, 7, 8]\n",
    "rightIdx = [5, 11, 12]\n",
    "\n",
    "inClass = [encodingResult[idx] for idx in inIdx]\n",
    "leftClass = [encodingResult[idx] for idx in leftIdx]\n",
    "rightClass = [encodingResult[idx] for idx in rightIdx]\n",
    "\n",
    "inClass = np.array(inClass)\n",
    "leftClass = np.array(leftClass)\n",
    "rightClass = np.array(rightClass)\n",
    "\n",
    "print(inClass.shape)\n",
    "print(leftClass.shape)\n",
    "print(rightClass.shape)"
   ]
  },
  {
   "cell_type": "code",
   "execution_count": 12,
   "metadata": {},
   "outputs": [
    {
     "name": "stdout",
     "output_type": "stream",
     "text": [
      "(11430, 16, 16, 3) (11430, 16, 16, 3) (11430, 16, 16, 3)\n"
     ]
    }
   ],
   "source": [
    "inCounter = 0\n",
    "leftCounter = 0\n",
    "rightCounter = 0\n",
    "\n",
    "inClassImg = []\n",
    "leftClassImg = []\n",
    "rightClassImg = []\n",
    "\n",
    "inLabelList = []\n",
    "leftLabelList = []\n",
    "rightLabelList = []\n",
    "\n",
    "yIn = []\n",
    "yLeft = []\n",
    "yRight = []\n",
    "\n",
    "for i in range(3):\n",
    "    for j in range(inClass.shape[1]):\n",
    "        inImg1 = inClass[i, j, :, :, :3]\n",
    "        inImg2 = inClass[i, j, :, :, 3 : 6]\n",
    "        leftImg1 = leftClass[i, j, :, :, :3]\n",
    "        leftImg2 = leftClass[i, j, :, :, 3:6]\n",
    "        rightImg1 = rightClass[i, j, :, :, :3]\n",
    "        rightImg2 = rightClass[i, j, :, :, 3:6]\n",
    "\n",
    "        inClassImg.append(inImg1)\n",
    "        inLabelList.append(f\"I_{inCounter}\")\n",
    "        yIn.append(0)\n",
    "        inCounter += 1\n",
    "\n",
    "        leftClassImg.append(leftImg1)\n",
    "        leftLabelList.append(f\"L_{leftCounter}\")\n",
    "        yLeft.append(1)\n",
    "        leftCounter += 1\n",
    "\n",
    "        rightClassImg.append(rightImg1)\n",
    "        rightLabelList.append(f\"R_{rightCounter}\")\n",
    "        yRight.append(2)\n",
    "        rightCounter += 1\n",
    "\n",
    "        inClassImg.append(inImg2)\n",
    "        inLabelList.append(f\"I_{inCounter}\")\n",
    "        yIn.append(0)\n",
    "        inCounter += 1\n",
    "\n",
    "        leftClassImg.append(leftImg2)\n",
    "        leftLabelList.append(f\"L_{leftCounter}\")\n",
    "        yLeft.append(1)\n",
    "        leftCounter += 1\n",
    "\n",
    "        rightClassImg.append(rightImg2)\n",
    "        rightLabelList.append(f\"R_{rightCounter}\")\n",
    "        yRight.append(2)\n",
    "        rightCounter += 1\n",
    "\n",
    "inClassImg = np.array(inClassImg)\n",
    "leftClassImg = np.array(leftClassImg)\n",
    "rightClassImg = np.array(rightClassImg)\n",
    "\n",
    "print(inClassImg.shape, leftClassImg.shape, rightClassImg.shape)"
   ]
  },
  {
   "cell_type": "code",
   "execution_count": 13,
   "metadata": {},
   "outputs": [
    {
     "name": "stdout",
     "output_type": "stream",
     "text": [
      "(11430,) (11430,) (11430,)\n"
     ]
    }
   ],
   "source": [
    "inLabelIdx = np.array(inLabelList)\n",
    "leftLabelIdx = np.array(leftLabelList)\n",
    "rightLabelIdx = np.array(rightLabelList)\n",
    "\n",
    "print(inLabelIdx.shape, leftLabelIdx.shape, rightLabelIdx.shape)"
   ]
  },
  {
   "cell_type": "code",
   "execution_count": 14,
   "metadata": {},
   "outputs": [
    {
     "name": "stdout",
     "output_type": "stream",
     "text": [
      "(11430,) (11430,) (11430,)\n"
     ]
    }
   ],
   "source": [
    "yIn = np.array(yIn)\n",
    "yLeft = np.array(yLeft)\n",
    "yRight = np.array(yRight)\n",
    "\n",
    "print(yIn.shape, yLeft.shape, yRight.shape)"
   ]
  },
  {
   "cell_type": "code",
   "execution_count": 15,
   "metadata": {},
   "outputs": [],
   "source": [
    "magnetic = np.concatenate([inClassImg, leftClassImg, rightClassImg])\n",
    "labels = np.concatenate([yIn, yLeft, yRight])\n",
    "index = np.concatenate([inLabelIdx, leftLabelIdx, rightLabelIdx])\n",
    "\n",
    "tmp = [[x, y, z] for x, y, z in zip(magnetic, labels, index)]\n",
    "\n",
    "random.shuffle(tmp)\n",
    "\n",
    "X_data = [n[0] for n in tmp]\n",
    "y_data = [n[1] for n in tmp]\n",
    "i_data = [n[2] for n in tmp]\n",
    "\n",
    "np.savez(os.path.join(\"C:\\\\Users\\\\KOTC\\\\Desktop\\\\0903\\\\\", \"GADF_3Class_16Sample_SlidingWindow\"), X_data= X_data, y_data= y_data, i_data= i_data)"
   ]
  },
  {
   "cell_type": "code",
   "execution_count": null,
   "metadata": {},
   "outputs": [],
   "source": []
  }
 ],
 "metadata": {
  "kernelspec": {
   "display_name": "tensorflow",
   "language": "python",
   "name": "python3"
  },
  "language_info": {
   "codemirror_mode": {
    "name": "ipython",
    "version": 3
   },
   "file_extension": ".py",
   "mimetype": "text/x-python",
   "name": "python",
   "nbconvert_exporter": "python",
   "pygments_lexer": "ipython3",
   "version": "3.9.16"
  }
 },
 "nbformat": 4,
 "nbformat_minor": 2
}
